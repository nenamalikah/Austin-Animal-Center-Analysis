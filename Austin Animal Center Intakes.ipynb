{
 "cells": [
  {
   "cell_type": "code",
   "execution_count": 1,
   "metadata": {},
   "outputs": [],
   "source": [
    "import pandas as pd\n",
    "import matplotlib as mpl\n",
    "from matplotlib import pyplot as plt\n",
    "import seaborn as sns \n",
    "import math\n",
    "import re\n",
    "import operator\n",
    "import numpy as np"
   ]
  },
  {
   "cell_type": "code",
   "execution_count": 2,
   "metadata": {
    "scrolled": true
   },
   "outputs": [
    {
     "data": {
      "text/html": [
       "<div>\n",
       "<style scoped>\n",
       "    .dataframe tbody tr th:only-of-type {\n",
       "        vertical-align: middle;\n",
       "    }\n",
       "\n",
       "    .dataframe tbody tr th {\n",
       "        vertical-align: top;\n",
       "    }\n",
       "\n",
       "    .dataframe thead th {\n",
       "        text-align: right;\n",
       "    }\n",
       "</style>\n",
       "<table border=\"1\" class=\"dataframe\">\n",
       "  <thead>\n",
       "    <tr style=\"text-align: right;\">\n",
       "      <th></th>\n",
       "      <th>Animal ID</th>\n",
       "      <th>Name</th>\n",
       "      <th>DateTime</th>\n",
       "      <th>MonthYear</th>\n",
       "      <th>Found Location</th>\n",
       "      <th>Intake Type</th>\n",
       "      <th>Intake Condition</th>\n",
       "      <th>Animal Type</th>\n",
       "      <th>Sex upon Intake</th>\n",
       "      <th>Age upon Intake</th>\n",
       "      <th>Breed</th>\n",
       "      <th>Color</th>\n",
       "    </tr>\n",
       "  </thead>\n",
       "  <tbody>\n",
       "    <tr>\n",
       "      <th>0</th>\n",
       "      <td>A786884</td>\n",
       "      <td>*Brock</td>\n",
       "      <td>01/03/2019 04:19:00 PM</td>\n",
       "      <td>01/03/2019 04:19:00 PM</td>\n",
       "      <td>2501 Magin Meadow Dr in Austin (TX)</td>\n",
       "      <td>Stray</td>\n",
       "      <td>Normal</td>\n",
       "      <td>Dog</td>\n",
       "      <td>Neutered Male</td>\n",
       "      <td>2 years</td>\n",
       "      <td>Beagle Mix</td>\n",
       "      <td>Tricolor</td>\n",
       "    </tr>\n",
       "    <tr>\n",
       "      <th>1</th>\n",
       "      <td>A706918</td>\n",
       "      <td>Belle</td>\n",
       "      <td>07/05/2015 12:59:00 PM</td>\n",
       "      <td>07/05/2015 12:59:00 PM</td>\n",
       "      <td>9409 Bluegrass Dr in Austin (TX)</td>\n",
       "      <td>Stray</td>\n",
       "      <td>Normal</td>\n",
       "      <td>Dog</td>\n",
       "      <td>Spayed Female</td>\n",
       "      <td>8 years</td>\n",
       "      <td>English Springer Spaniel</td>\n",
       "      <td>White/Liver</td>\n",
       "    </tr>\n",
       "    <tr>\n",
       "      <th>2</th>\n",
       "      <td>A724273</td>\n",
       "      <td>Runster</td>\n",
       "      <td>04/14/2016 06:43:00 PM</td>\n",
       "      <td>04/14/2016 06:43:00 PM</td>\n",
       "      <td>2818 Palomino Trail in Austin (TX)</td>\n",
       "      <td>Stray</td>\n",
       "      <td>Normal</td>\n",
       "      <td>Dog</td>\n",
       "      <td>Intact Male</td>\n",
       "      <td>11 months</td>\n",
       "      <td>Basenji Mix</td>\n",
       "      <td>Sable/White</td>\n",
       "    </tr>\n",
       "  </tbody>\n",
       "</table>\n",
       "</div>"
      ],
      "text/plain": [
       "  Animal ID     Name                DateTime               MonthYear  \\\n",
       "0   A786884   *Brock  01/03/2019 04:19:00 PM  01/03/2019 04:19:00 PM   \n",
       "1   A706918    Belle  07/05/2015 12:59:00 PM  07/05/2015 12:59:00 PM   \n",
       "2   A724273  Runster  04/14/2016 06:43:00 PM  04/14/2016 06:43:00 PM   \n",
       "\n",
       "                        Found Location Intake Type Intake Condition  \\\n",
       "0  2501 Magin Meadow Dr in Austin (TX)       Stray           Normal   \n",
       "1     9409 Bluegrass Dr in Austin (TX)       Stray           Normal   \n",
       "2   2818 Palomino Trail in Austin (TX)       Stray           Normal   \n",
       "\n",
       "  Animal Type Sex upon Intake Age upon Intake                     Breed  \\\n",
       "0         Dog   Neutered Male         2 years                Beagle Mix   \n",
       "1         Dog   Spayed Female         8 years  English Springer Spaniel   \n",
       "2         Dog     Intact Male       11 months               Basenji Mix   \n",
       "\n",
       "         Color  \n",
       "0     Tricolor  \n",
       "1  White/Liver  \n",
       "2  Sable/White  "
      ]
     },
     "execution_count": 2,
     "metadata": {},
     "output_type": "execute_result"
    }
   ],
   "source": [
    "df = pd.read_csv('Austin_Animal_Center_Intakes.csv')\n",
    "df.head(3)"
   ]
  },
  {
   "cell_type": "code",
   "execution_count": 3,
   "metadata": {},
   "outputs": [
    {
     "data": {
      "text/plain": [
       "(134888, 12)"
      ]
     },
     "execution_count": 3,
     "metadata": {},
     "output_type": "execute_result"
    }
   ],
   "source": [
    "df.shape"
   ]
  },
  {
   "cell_type": "markdown",
   "metadata": {},
   "source": [
    "## Data Cleaning\n",
    "<div class=\"alert alert-block alert-success\">\n",
    "<span style=\"color:black\">\n",
    "\n",
    "Prior to analysis, the dataframe is cleaned and prepared. This includes the following:\n",
    "- Dropping unnecessary columns\n",
    "- Renaming columns\n",
    "- Checking for missing values\n",
    "- Checking for duplicate values \n",
    "- Ensuring correct data types\n",
    "   \n",
    "    </span>\n",
    "    </div> "
   ]
  },
  {
   "cell_type": "code",
   "execution_count": 4,
   "metadata": {
    "scrolled": true
   },
   "outputs": [
    {
     "data": {
      "text/html": [
       "<div>\n",
       "<style scoped>\n",
       "    .dataframe tbody tr th:only-of-type {\n",
       "        vertical-align: middle;\n",
       "    }\n",
       "\n",
       "    .dataframe tbody tr th {\n",
       "        vertical-align: top;\n",
       "    }\n",
       "\n",
       "    .dataframe thead th {\n",
       "        text-align: right;\n",
       "    }\n",
       "</style>\n",
       "<table border=\"1\" class=\"dataframe\">\n",
       "  <thead>\n",
       "    <tr style=\"text-align: right;\">\n",
       "      <th></th>\n",
       "      <th>Animal ID</th>\n",
       "      <th>Name</th>\n",
       "      <th>DateTime</th>\n",
       "      <th>Found Location</th>\n",
       "      <th>Intake Type</th>\n",
       "      <th>Intake Condition</th>\n",
       "      <th>Animal Type</th>\n",
       "      <th>Sex upon Intake</th>\n",
       "      <th>Age upon Intake</th>\n",
       "      <th>Breed</th>\n",
       "      <th>Color</th>\n",
       "    </tr>\n",
       "  </thead>\n",
       "  <tbody>\n",
       "    <tr>\n",
       "      <th>0</th>\n",
       "      <td>A786884</td>\n",
       "      <td>*Brock</td>\n",
       "      <td>01/03/2019 04:19:00 PM</td>\n",
       "      <td>2501 Magin Meadow Dr in Austin (TX)</td>\n",
       "      <td>Stray</td>\n",
       "      <td>Normal</td>\n",
       "      <td>Dog</td>\n",
       "      <td>Neutered Male</td>\n",
       "      <td>2 years</td>\n",
       "      <td>Beagle Mix</td>\n",
       "      <td>Tricolor</td>\n",
       "    </tr>\n",
       "    <tr>\n",
       "      <th>1</th>\n",
       "      <td>A706918</td>\n",
       "      <td>Belle</td>\n",
       "      <td>07/05/2015 12:59:00 PM</td>\n",
       "      <td>9409 Bluegrass Dr in Austin (TX)</td>\n",
       "      <td>Stray</td>\n",
       "      <td>Normal</td>\n",
       "      <td>Dog</td>\n",
       "      <td>Spayed Female</td>\n",
       "      <td>8 years</td>\n",
       "      <td>English Springer Spaniel</td>\n",
       "      <td>White/Liver</td>\n",
       "    </tr>\n",
       "    <tr>\n",
       "      <th>2</th>\n",
       "      <td>A724273</td>\n",
       "      <td>Runster</td>\n",
       "      <td>04/14/2016 06:43:00 PM</td>\n",
       "      <td>2818 Palomino Trail in Austin (TX)</td>\n",
       "      <td>Stray</td>\n",
       "      <td>Normal</td>\n",
       "      <td>Dog</td>\n",
       "      <td>Intact Male</td>\n",
       "      <td>11 months</td>\n",
       "      <td>Basenji Mix</td>\n",
       "      <td>Sable/White</td>\n",
       "    </tr>\n",
       "  </tbody>\n",
       "</table>\n",
       "</div>"
      ],
      "text/plain": [
       "  Animal ID     Name                DateTime  \\\n",
       "0   A786884   *Brock  01/03/2019 04:19:00 PM   \n",
       "1   A706918    Belle  07/05/2015 12:59:00 PM   \n",
       "2   A724273  Runster  04/14/2016 06:43:00 PM   \n",
       "\n",
       "                        Found Location Intake Type Intake Condition  \\\n",
       "0  2501 Magin Meadow Dr in Austin (TX)       Stray           Normal   \n",
       "1     9409 Bluegrass Dr in Austin (TX)       Stray           Normal   \n",
       "2   2818 Palomino Trail in Austin (TX)       Stray           Normal   \n",
       "\n",
       "  Animal Type Sex upon Intake Age upon Intake                     Breed  \\\n",
       "0         Dog   Neutered Male         2 years                Beagle Mix   \n",
       "1         Dog   Spayed Female         8 years  English Springer Spaniel   \n",
       "2         Dog     Intact Male       11 months               Basenji Mix   \n",
       "\n",
       "         Color  \n",
       "0     Tricolor  \n",
       "1  White/Liver  \n",
       "2  Sable/White  "
      ]
     },
     "execution_count": 4,
     "metadata": {},
     "output_type": "execute_result"
    }
   ],
   "source": [
    "# Here unnecessary columns are dropped from the data set. \n",
    "df.drop('MonthYear', inplace=True, axis=1)\n",
    "df.head(3)"
   ]
  },
  {
   "cell_type": "code",
   "execution_count": 5,
   "metadata": {
    "scrolled": false
   },
   "outputs": [
    {
     "data": {
      "text/html": [
       "<div>\n",
       "<style scoped>\n",
       "    .dataframe tbody tr th:only-of-type {\n",
       "        vertical-align: middle;\n",
       "    }\n",
       "\n",
       "    .dataframe tbody tr th {\n",
       "        vertical-align: top;\n",
       "    }\n",
       "\n",
       "    .dataframe thead th {\n",
       "        text-align: right;\n",
       "    }\n",
       "</style>\n",
       "<table border=\"1\" class=\"dataframe\">\n",
       "  <thead>\n",
       "    <tr style=\"text-align: right;\">\n",
       "      <th></th>\n",
       "      <th>AnimalID</th>\n",
       "      <th>Name</th>\n",
       "      <th>DateTime</th>\n",
       "      <th>FoundLocation</th>\n",
       "      <th>IntakeType</th>\n",
       "      <th>IntakeCondition</th>\n",
       "      <th>AnimalType</th>\n",
       "      <th>SexuponIntake</th>\n",
       "      <th>AgeuponIntake</th>\n",
       "      <th>Breed</th>\n",
       "      <th>Color</th>\n",
       "    </tr>\n",
       "  </thead>\n",
       "  <tbody>\n",
       "    <tr>\n",
       "      <th>0</th>\n",
       "      <td>A786884</td>\n",
       "      <td>*Brock</td>\n",
       "      <td>01/03/2019 04:19:00 PM</td>\n",
       "      <td>2501 Magin Meadow Dr in Austin (TX)</td>\n",
       "      <td>Stray</td>\n",
       "      <td>Normal</td>\n",
       "      <td>Dog</td>\n",
       "      <td>Neutered Male</td>\n",
       "      <td>2 years</td>\n",
       "      <td>Beagle Mix</td>\n",
       "      <td>Tricolor</td>\n",
       "    </tr>\n",
       "    <tr>\n",
       "      <th>1</th>\n",
       "      <td>A706918</td>\n",
       "      <td>Belle</td>\n",
       "      <td>07/05/2015 12:59:00 PM</td>\n",
       "      <td>9409 Bluegrass Dr in Austin (TX)</td>\n",
       "      <td>Stray</td>\n",
       "      <td>Normal</td>\n",
       "      <td>Dog</td>\n",
       "      <td>Spayed Female</td>\n",
       "      <td>8 years</td>\n",
       "      <td>English Springer Spaniel</td>\n",
       "      <td>White/Liver</td>\n",
       "    </tr>\n",
       "    <tr>\n",
       "      <th>2</th>\n",
       "      <td>A724273</td>\n",
       "      <td>Runster</td>\n",
       "      <td>04/14/2016 06:43:00 PM</td>\n",
       "      <td>2818 Palomino Trail in Austin (TX)</td>\n",
       "      <td>Stray</td>\n",
       "      <td>Normal</td>\n",
       "      <td>Dog</td>\n",
       "      <td>Intact Male</td>\n",
       "      <td>11 months</td>\n",
       "      <td>Basenji Mix</td>\n",
       "      <td>Sable/White</td>\n",
       "    </tr>\n",
       "    <tr>\n",
       "      <th>3</th>\n",
       "      <td>A665644</td>\n",
       "      <td>NaN</td>\n",
       "      <td>10/21/2013 07:59:00 AM</td>\n",
       "      <td>Austin (TX)</td>\n",
       "      <td>Stray</td>\n",
       "      <td>Sick</td>\n",
       "      <td>Cat</td>\n",
       "      <td>Intact Female</td>\n",
       "      <td>4 weeks</td>\n",
       "      <td>Domestic Shorthair Mix</td>\n",
       "      <td>Calico</td>\n",
       "    </tr>\n",
       "    <tr>\n",
       "      <th>4</th>\n",
       "      <td>A682524</td>\n",
       "      <td>Rio</td>\n",
       "      <td>06/29/2014 10:38:00 AM</td>\n",
       "      <td>800 Grove Blvd in Austin (TX)</td>\n",
       "      <td>Stray</td>\n",
       "      <td>Normal</td>\n",
       "      <td>Dog</td>\n",
       "      <td>Neutered Male</td>\n",
       "      <td>4 years</td>\n",
       "      <td>Doberman Pinsch/Australian Cattle Dog</td>\n",
       "      <td>Tan/Gray</td>\n",
       "    </tr>\n",
       "  </tbody>\n",
       "</table>\n",
       "</div>"
      ],
      "text/plain": [
       "  AnimalID     Name                DateTime  \\\n",
       "0  A786884   *Brock  01/03/2019 04:19:00 PM   \n",
       "1  A706918    Belle  07/05/2015 12:59:00 PM   \n",
       "2  A724273  Runster  04/14/2016 06:43:00 PM   \n",
       "3  A665644      NaN  10/21/2013 07:59:00 AM   \n",
       "4  A682524      Rio  06/29/2014 10:38:00 AM   \n",
       "\n",
       "                         FoundLocation IntakeType IntakeCondition AnimalType  \\\n",
       "0  2501 Magin Meadow Dr in Austin (TX)      Stray          Normal        Dog   \n",
       "1     9409 Bluegrass Dr in Austin (TX)      Stray          Normal        Dog   \n",
       "2   2818 Palomino Trail in Austin (TX)      Stray          Normal        Dog   \n",
       "3                          Austin (TX)      Stray            Sick        Cat   \n",
       "4        800 Grove Blvd in Austin (TX)      Stray          Normal        Dog   \n",
       "\n",
       "   SexuponIntake AgeuponIntake                                  Breed  \\\n",
       "0  Neutered Male       2 years                             Beagle Mix   \n",
       "1  Spayed Female       8 years               English Springer Spaniel   \n",
       "2    Intact Male     11 months                            Basenji Mix   \n",
       "3  Intact Female       4 weeks                 Domestic Shorthair Mix   \n",
       "4  Neutered Male       4 years  Doberman Pinsch/Australian Cattle Dog   \n",
       "\n",
       "         Color  \n",
       "0     Tricolor  \n",
       "1  White/Liver  \n",
       "2  Sable/White  \n",
       "3       Calico  \n",
       "4     Tan/Gray  "
      ]
     },
     "execution_count": 5,
     "metadata": {},
     "output_type": "execute_result"
    }
   ],
   "source": [
    "# Here spaces are removed from the column names to aid in later querying. \n",
    "for x in df.columns:\n",
    "    df.rename(columns={f'{x}':f'{x.replace(\" \", \"\")}'}, inplace=True)\n",
    "    \n",
    "df.head()"
   ]
  },
  {
   "cell_type": "code",
   "execution_count": 6,
   "metadata": {},
   "outputs": [
    {
     "data": {
      "text/html": [
       "<div>\n",
       "<style scoped>\n",
       "    .dataframe tbody tr th:only-of-type {\n",
       "        vertical-align: middle;\n",
       "    }\n",
       "\n",
       "    .dataframe tbody tr th {\n",
       "        vertical-align: top;\n",
       "    }\n",
       "\n",
       "    .dataframe thead th {\n",
       "        text-align: right;\n",
       "    }\n",
       "</style>\n",
       "<table border=\"1\" class=\"dataframe\">\n",
       "  <thead>\n",
       "    <tr style=\"text-align: right;\">\n",
       "      <th></th>\n",
       "      <th>AnimalID</th>\n",
       "      <th>Name</th>\n",
       "      <th>Date</th>\n",
       "      <th>Location</th>\n",
       "      <th>Intake</th>\n",
       "      <th>Condition</th>\n",
       "      <th>Animal</th>\n",
       "      <th>Sex</th>\n",
       "      <th>Age</th>\n",
       "      <th>Breed</th>\n",
       "      <th>Color</th>\n",
       "    </tr>\n",
       "  </thead>\n",
       "  <tbody>\n",
       "    <tr>\n",
       "      <th>0</th>\n",
       "      <td>A786884</td>\n",
       "      <td>*Brock</td>\n",
       "      <td>01/03/2019 04:19:00 PM</td>\n",
       "      <td>2501 Magin Meadow Dr in Austin (TX)</td>\n",
       "      <td>Stray</td>\n",
       "      <td>Normal</td>\n",
       "      <td>Dog</td>\n",
       "      <td>Neutered Male</td>\n",
       "      <td>2 years</td>\n",
       "      <td>Beagle Mix</td>\n",
       "      <td>Tricolor</td>\n",
       "    </tr>\n",
       "    <tr>\n",
       "      <th>1</th>\n",
       "      <td>A706918</td>\n",
       "      <td>Belle</td>\n",
       "      <td>07/05/2015 12:59:00 PM</td>\n",
       "      <td>9409 Bluegrass Dr in Austin (TX)</td>\n",
       "      <td>Stray</td>\n",
       "      <td>Normal</td>\n",
       "      <td>Dog</td>\n",
       "      <td>Spayed Female</td>\n",
       "      <td>8 years</td>\n",
       "      <td>English Springer Spaniel</td>\n",
       "      <td>White/Liver</td>\n",
       "    </tr>\n",
       "  </tbody>\n",
       "</table>\n",
       "</div>"
      ],
      "text/plain": [
       "  AnimalID    Name                    Date  \\\n",
       "0  A786884  *Brock  01/03/2019 04:19:00 PM   \n",
       "1  A706918   Belle  07/05/2015 12:59:00 PM   \n",
       "\n",
       "                              Location Intake Condition Animal            Sex  \\\n",
       "0  2501 Magin Meadow Dr in Austin (TX)  Stray    Normal    Dog  Neutered Male   \n",
       "1     9409 Bluegrass Dr in Austin (TX)  Stray    Normal    Dog  Spayed Female   \n",
       "\n",
       "       Age                     Breed        Color  \n",
       "0  2 years                Beagle Mix     Tricolor  \n",
       "1  8 years  English Springer Spaniel  White/Liver  "
      ]
     },
     "execution_count": 6,
     "metadata": {},
     "output_type": "execute_result"
    }
   ],
   "source": [
    "# Here columns are renamed to more simple names. \n",
    "df.rename(columns={'DateTime':'Date','IntakeCondition':'Condition',\n",
    "                   'FoundLocation':'Location', 'IntakeType':'Intake', 'AnimalType':'Animal',\n",
    "                   'SexuponIntake':'Sex', 'AgeuponIntake':'Age'}, inplace=True)\n",
    "df.head(2)"
   ]
  },
  {
   "cell_type": "code",
   "execution_count": 7,
   "metadata": {},
   "outputs": [
    {
     "data": {
      "text/plain": [
       "AnimalID         0\n",
       "Name         40729\n",
       "Date             0\n",
       "Location         0\n",
       "Intake           0\n",
       "Condition        0\n",
       "Animal           0\n",
       "Sex              1\n",
       "Age              0\n",
       "Breed            0\n",
       "Color            0\n",
       "dtype: int64"
      ]
     },
     "execution_count": 7,
     "metadata": {},
     "output_type": "execute_result"
    }
   ],
   "source": [
    "# Here the columns are checked for missing values. \n",
    "# Since Name and Sex columns won't be used much for analysis, we will leave the values as-is. \n",
    "df.isna().sum()"
   ]
  },
  {
   "cell_type": "code",
   "execution_count": 8,
   "metadata": {},
   "outputs": [
    {
     "data": {
      "text/plain": [
       "False"
      ]
     },
     "execution_count": 8,
     "metadata": {},
     "output_type": "execute_result"
    }
   ],
   "source": [
    "# Here the Animal ID column is tested to see if each row represents a unique value. \n",
    "# Since the value is false, there are duplicate ID's in the column. \n",
    "df['AnimalID'].is_unique"
   ]
  },
  {
   "cell_type": "code",
   "execution_count": 9,
   "metadata": {
    "scrolled": false
   },
   "outputs": [
    {
     "name": "stdout",
     "output_type": "stream",
     "text": [
      "       AnimalID      Name                    Date  \\\n",
      "3490    A830075    Waffle  03/02/2021 01:35:00 PM   \n",
      "3491    A830075    Waffle  03/02/2021 01:35:00 PM   \n",
      "6652    A696688      Mari  02/10/2015 11:00:00 AM   \n",
      "6653    A696688      Mari  02/10/2015 11:00:00 AM   \n",
      "8696    A727043    *Larry  05/17/2016 03:46:00 PM   \n",
      "8697    A727043    *Larry  05/17/2016 03:46:00 PM   \n",
      "11361   A761936       NaN  11/12/2017 11:16:00 AM   \n",
      "11362   A761936       NaN  11/12/2017 11:16:00 AM   \n",
      "15054   A561806     Dasia  06/05/2017 11:36:00 AM   \n",
      "15055   A561806     Dasia  06/05/2017 11:36:00 AM   \n",
      "25221   A811566     Bubby  01/05/2020 09:13:00 PM   \n",
      "25733   A773428   *Atreyu  05/31/2018 06:38:00 PM   \n",
      "25734   A773428   *Atreyu  05/31/2018 06:38:00 PM   \n",
      "28620   A719747     Layla  02/12/2021 09:51:00 PM   \n",
      "42777   A815987  Princess  04/09/2020 03:32:00 PM   \n",
      "42778   A815987  Princess  04/09/2020 03:32:00 PM   \n",
      "49997   A735395       Owl  09/23/2016 12:00:00 PM   \n",
      "49998   A735395       Owl  09/23/2016 12:00:00 PM   \n",
      "58716   A698864       NaN  03/19/2015 01:37:00 PM   \n",
      "58717   A698864       NaN  03/19/2015 01:37:00 PM   \n",
      "59944   A764464    Pepper  09/17/2018 03:09:00 PM   \n",
      "59945   A764464    Pepper  09/17/2018 03:09:00 PM   \n",
      "61392   A814983      Flor  06/08/2021 03:37:00 PM   \n",
      "61393   A814983      Flor  06/08/2021 03:37:00 PM   \n",
      "63112   A668183     Nacha  06/27/2014 11:34:00 AM   \n",
      "63113   A668183     Nacha  06/27/2014 11:34:00 AM   \n",
      "64373   A681446       NaN  06/16/2014 04:38:00 PM   \n",
      "64374   A681446       NaN  06/16/2014 04:38:00 PM   \n",
      "68745   A695798       Jim  01/23/2015 11:48:00 AM   \n",
      "68746   A695798       Jim  01/23/2015 11:48:00 AM   \n",
      "72062   A797007      Ummi  06/08/2019 12:03:00 PM   \n",
      "72063   A797007      Ummi  06/08/2019 12:03:00 PM   \n",
      "73801   A748204       Bob  04/30/2017 04:24:00 PM   \n",
      "73802   A748204       Bob  04/30/2017 04:24:00 PM   \n",
      "74867   A811566     Bubby  07/19/2020 10:01:00 AM   \n",
      "90577   A811566     Bubby  07/19/2020 10:01:00 AM   \n",
      "91571   A672744       Oso  02/17/2014 05:10:00 PM   \n",
      "104460  A719747     Layla  02/12/2021 09:51:00 PM   \n",
      "111681  A782931      Mika  10/23/2018 12:29:00 PM   \n",
      "111682  A782931      Mika  10/23/2018 12:29:00 PM   \n",
      "113440  A811566     Bubby  01/05/2020 09:13:00 PM   \n",
      "114654  A755687       NaN  08/07/2017 12:39:00 PM   \n",
      "114655  A755687       NaN  08/07/2017 12:39:00 PM   \n",
      "118762  A672744       Oso  02/17/2014 05:10:00 PM   \n",
      "130446  A783234  Princess  11/01/2018 02:36:00 PM   \n",
      "130447  A783234  Princess  11/01/2018 02:36:00 PM   \n",
      "133523  A846569   A846569  11/17/2021 02:58:00 PM   \n",
      "133993  A846569   A846569  11/17/2021 02:58:00 PM   \n",
      "\n",
      "                                              Location           Intake  \\\n",
      "3490    Onion Creek And Pleasant Valley in Austin (TX)            Stray   \n",
      "3491    Onion Creek And Pleasant Valley in Austin (TX)            Stray   \n",
      "6652                                       Austin (TX)  Owner Surrender   \n",
      "6653                                       Austin (TX)  Owner Surrender   \n",
      "8696                  9515 N Lamar Blvd in Austin (TX)            Stray   \n",
      "8697                  9515 N Lamar Blvd in Austin (TX)            Stray   \n",
      "11361                8400 Old Bee Caves in Austin (TX)            Stray   \n",
      "11362                8400 Old Bee Caves in Austin (TX)            Stray   \n",
      "15054                    2002 Nightview in Austin (TX)            Stray   \n",
      "15055                    2002 Nightview in Austin (TX)            Stray   \n",
      "25221                     5100 W Us 290 in Austin (TX)    Public Assist   \n",
      "25733                  7Th And Gonzalez in Austin (TX)            Stray   \n",
      "25734                  7Th And Gonzalez in Austin (TX)            Stray   \n",
      "28620              12 Street And Brazos in Austin (TX)            Stray   \n",
      "42777                                      Austin (TX)    Public Assist   \n",
      "42778                                      Austin (TX)    Public Assist   \n",
      "49997                                      Austin (TX)  Owner Surrender   \n",
      "49998                                      Austin (TX)  Owner Surrender   \n",
      "58716                    12129 Glass Rd in Travis (TX)         Wildlife   \n",
      "58717                    12129 Glass Rd in Travis (TX)         Wildlife   \n",
      "59944                                   Del Valle (TX)  Owner Surrender   \n",
      "59945                                   Del Valle (TX)  Owner Surrender   \n",
      "61392                    1500 Parkfield in Austin (TX)            Stray   \n",
      "61393                    1500 Parkfield in Austin (TX)            Stray   \n",
      "63112                                      Austin (TX)    Public Assist   \n",
      "63113                                      Austin (TX)    Public Assist   \n",
      "64373                    6208 Tupelo Dr in Austin (TX)         Wildlife   \n",
      "64374                    6208 Tupelo Dr in Austin (TX)         Wildlife   \n",
      "68745                                      Austin (TX)  Owner Surrender   \n",
      "68746                                      Austin (TX)  Owner Surrender   \n",
      "72062                                      Austin (TX)  Owner Surrender   \n",
      "72063                                      Austin (TX)  Owner Surrender   \n",
      "73801                                      Austin (TX)  Owner Surrender   \n",
      "73802                                      Austin (TX)  Owner Surrender   \n",
      "74867         507 South !St Street #244 in Austin (TX)    Public Assist   \n",
      "90577              507 South 1St Street in Austin (TX)    Public Assist   \n",
      "91571                                      Austin (TX)    Public Assist   \n",
      "104460                 12 St And Brazos in Austin (TX)            Stray   \n",
      "111681            13309 Slow Poke Drive in Austin (TX)            Stray   \n",
      "111682            13309 Slow Poke Drive in Austin (TX)            Stray   \n",
      "113440        507 South !St Street #244 in Austin (TX)    Public Assist   \n",
      "114654              505  Barton Springs in Austin (TX)         Wildlife   \n",
      "114655              505  Barton Springs in Austin (TX)         Wildlife   \n",
      "118762                                     Travis (TX)  Owner Surrender   \n",
      "130446                                     Austin (TX)    Public Assist   \n",
      "130447                                     Austin (TX)    Public Assist   \n",
      "133523    Colfax And Blazewood Crossing in Austin (TX)            Stray   \n",
      "133993    Colfax And Blazewood Crossing in Austin (TX)            Stray   \n",
      "\n",
      "       Condition Animal            Sex        Age  \\\n",
      "3490      Normal    Dog    Intact Male     1 year   \n",
      "3491      Normal    Dog    Intact Male     1 year   \n",
      "6652      Normal    Cat  Spayed Female    3 years   \n",
      "6653      Normal    Cat  Spayed Female    3 years   \n",
      "8696      Normal    Cat    Intact Male     1 year   \n",
      "8697      Normal    Cat    Intact Male     1 year   \n",
      "11361     Normal    Dog    Intact Male   9 months   \n",
      "11362     Normal    Dog    Intact Male   9 months   \n",
      "15054     Normal    Dog  Spayed Female    8 years   \n",
      "15055     Normal    Dog  Spayed Female    8 years   \n",
      "25221     Normal    Cat  Neutered Male     1 year   \n",
      "25733     Normal    Cat    Intact Male    3 weeks   \n",
      "25734     Normal    Cat    Intact Male    3 weeks   \n",
      "28620     Normal    Dog  Spayed Female    5 years   \n",
      "42777     Normal    Dog  Intact Female     1 year   \n",
      "42778     Normal    Dog  Intact Female     1 year   \n",
      "49997     Normal    Cat  Intact Female  10 months   \n",
      "49998     Normal    Cat  Intact Female  10 months   \n",
      "58716    Injured  Other        Unknown     1 year   \n",
      "58717    Injured  Other        Unknown     1 year   \n",
      "59944     Normal    Dog  Spayed Female  11 months   \n",
      "59945     Normal    Dog  Spayed Female  11 months   \n",
      "61392    Injured    Dog  Intact Female    5 years   \n",
      "61393    Injured    Dog  Intact Female    5 years   \n",
      "63112     Normal    Dog  Spayed Female  10 months   \n",
      "63113     Normal    Dog  Spayed Female  10 months   \n",
      "64373     Normal  Other        Unknown     1 year   \n",
      "64374     Normal  Other        Unknown     1 year   \n",
      "68745       Sick    Cat  Neutered Male  10 months   \n",
      "68746       Sick    Cat  Neutered Male  10 months   \n",
      "72062       Sick    Dog  Neutered Male    9 years   \n",
      "72063       Sick    Dog  Neutered Male    9 years   \n",
      "73801     Normal    Cat    Intact Male   2 months   \n",
      "73802     Normal    Cat    Intact Male   2 months   \n",
      "74867     Normal    Cat  Neutered Male    2 years   \n",
      "90577     Normal    Cat  Neutered Male    2 years   \n",
      "91571     Normal    Dog    Intact Male    3 years   \n",
      "104460    Normal    Dog  Spayed Female    5 years   \n",
      "111681    Normal    Cat  Spayed Female     1 year   \n",
      "111682    Normal    Cat  Spayed Female     1 year   \n",
      "113440    Normal    Cat  Neutered Male     1 year   \n",
      "114654    Normal  Other        Unknown    3 years   \n",
      "114655    Normal  Other        Unknown    3 years   \n",
      "118762    Normal    Dog    Intact Male    3 years   \n",
      "130446    Normal    Dog  Intact Female    2 years   \n",
      "130447    Normal    Dog  Intact Female    2 years   \n",
      "133523   Injured    Dog    Intact Male   5 months   \n",
      "133993   Injured    Dog    Intact Male   5 months   \n",
      "\n",
      "                                  Breed                Color  \n",
      "3490            Chihuahua Shorthair Mix                  Tan  \n",
      "3491            Chihuahua Shorthair Mix                  Tan  \n",
      "6652             Domestic Shorthair Mix         Calico/White  \n",
      "6653             Domestic Shorthair Mix         Calico/White  \n",
      "8696             Domestic Shorthair Mix           Blue/White  \n",
      "8697             Domestic Shorthair Mix           Blue/White  \n",
      "11361              Scottish Terrier Mix        Brown Brindle  \n",
      "11362              Scottish Terrier Mix        Brown Brindle  \n",
      "15054                      Pit Bull Mix  Brown Brindle/White  \n",
      "15055                      Pit Bull Mix  Brown Brindle/White  \n",
      "25221                Domestic Shorthair                White  \n",
      "25733            Domestic Shorthair Mix         Orange Tabby  \n",
      "25734            Domestic Shorthair Mix         Orange Tabby  \n",
      "28620     American Pit Bull Terrier Mix          White/Brown  \n",
      "42777                     Cairn Terrier          White/Brown  \n",
      "42778                     Cairn Terrier          White/Brown  \n",
      "49997            Domestic Shorthair Mix          Brown Tabby  \n",
      "49998            Domestic Shorthair Mix          Brown Tabby  \n",
      "58716                         Skunk Mix                Black  \n",
      "58717                         Skunk Mix                Black  \n",
      "59944   Soft Coated Wheaten Terrier Mix       Black/Tricolor  \n",
      "59945   Soft Coated Wheaten Terrier Mix       Black/Tricolor  \n",
      "61392              Pembroke Welsh Corgi         White/Yellow  \n",
      "61393              Pembroke Welsh Corgi         White/Yellow  \n",
      "63112                     Dachshund Mix          Black/White  \n",
      "63113                     Dachshund Mix          Black/White  \n",
      "64373                               Bat                Brown  \n",
      "64374                               Bat                Brown  \n",
      "68745            Domestic Shorthair Mix               Orange  \n",
      "68746            Domestic Shorthair Mix               Orange  \n",
      "72062                  Miniature Poodle                White  \n",
      "72063                  Miniature Poodle                White  \n",
      "73801            Domestic Shorthair Mix           White/Blue  \n",
      "73802            Domestic Shorthair Mix           White/Blue  \n",
      "74867                Domestic Shorthair                White  \n",
      "90577                Domestic Shorthair                White  \n",
      "91571                    Rottweiler Mix            Black/Tan  \n",
      "104460    American Pit Bull Terrier Mix          White/Brown  \n",
      "111681           Domestic Shorthair Mix               Tortie  \n",
      "111682           Domestic Shorthair Mix               Tortie  \n",
      "113440               Domestic Shorthair                White  \n",
      "114654                          Bat Mix                Brown  \n",
      "114655                          Bat Mix                Brown  \n",
      "118762                   Rottweiler Mix            Black/Tan  \n",
      "130446            Collie Smooth/Pointer                Brown  \n",
      "130447            Collie Smooth/Pointer                Brown  \n",
      "133523        Australian Cattle Dog Mix             Red Tick  \n",
      "133993        Australian Cattle Dog Mix             Red Tick  \n"
     ]
    }
   ],
   "source": [
    "# All of the duplicates for the Animal ID and Date columns are printed here.\n",
    "# Some Animal ID's represent duplicates, \n",
    "# while others represent animals who were taken into the Animal Center multiple times. \n",
    "\n",
    "duplicates = df[df.duplicated(subset=['AnimalID', 'Date'], keep=False)]\n",
    "print(duplicates)"
   ]
  },
  {
   "cell_type": "code",
   "execution_count": 10,
   "metadata": {},
   "outputs": [
    {
     "data": {
      "text/plain": [
       "(134864, 11)"
      ]
     },
     "execution_count": 10,
     "metadata": {},
     "output_type": "execute_result"
    }
   ],
   "source": [
    "# Here the dataframe is updated so that duplicate values are dropped. \n",
    "df.drop_duplicates(subset=['AnimalID', 'Date'], inplace=True)\n",
    "df.shape"
   ]
  },
  {
   "cell_type": "code",
   "execution_count": 11,
   "metadata": {},
   "outputs": [],
   "source": [
    "# Here the Date column is converted to date time to aid in analysis. \n",
    "df['Date'] = pd.to_datetime(df['Date'])"
   ]
  },
  {
   "cell_type": "markdown",
   "metadata": {},
   "source": [
    "## Unique Values by Category Type\n",
    "\n",
    "<div class=\"alert alert-block alert-success\">\n",
    "<span style=\"color:black\">\n",
    "\n",
    "Here are the unique values for each categorical field of the data set.  \n",
    "</span> \n",
    "</div>"
   ]
  },
  {
   "cell_type": "code",
   "execution_count": 12,
   "metadata": {},
   "outputs": [
    {
     "data": {
      "text/plain": [
       "array(['Stray', 'Owner Surrender', 'Public Assist', 'Wildlife',\n",
       "       'Euthanasia Request', 'Abandoned'], dtype=object)"
      ]
     },
     "execution_count": 12,
     "metadata": {},
     "output_type": "execute_result"
    }
   ],
   "source": [
    "df['Intake'].unique()"
   ]
  },
  {
   "cell_type": "code",
   "execution_count": 13,
   "metadata": {},
   "outputs": [
    {
     "data": {
      "text/plain": [
       "array(['Neutered Male', 'Spayed Female', 'Intact Male', 'Intact Female',\n",
       "       'Unknown', nan], dtype=object)"
      ]
     },
     "execution_count": 13,
     "metadata": {},
     "output_type": "execute_result"
    }
   ],
   "source": [
    "df['Sex'].unique()"
   ]
  },
  {
   "cell_type": "code",
   "execution_count": 14,
   "metadata": {},
   "outputs": [
    {
     "data": {
      "text/plain": [
       "array(['Normal', 'Sick', 'Injured', 'Pregnant', 'Nursing', 'Aged',\n",
       "       'Medical', 'Other', 'Neonatal', 'Feral', 'Behavior', 'Med Urgent',\n",
       "       'Space', 'Med Attn', 'Panleuk'], dtype=object)"
      ]
     },
     "execution_count": 14,
     "metadata": {},
     "output_type": "execute_result"
    }
   ],
   "source": [
    "df['Condition'].unique()"
   ]
  },
  {
   "cell_type": "code",
   "execution_count": 15,
   "metadata": {},
   "outputs": [
    {
     "data": {
      "text/plain": [
       "array(['Dog', 'Cat', 'Other', 'Bird', 'Livestock'], dtype=object)"
      ]
     },
     "execution_count": 15,
     "metadata": {},
     "output_type": "execute_result"
    }
   ],
   "source": [
    "df['Animal'].unique()"
   ]
  },
  {
   "cell_type": "code",
   "execution_count": 16,
   "metadata": {},
   "outputs": [
    {
     "data": {
      "text/plain": [
       "array(['Beagle Mix', 'English Springer Spaniel', 'Basenji Mix', ...,\n",
       "       'Whippet/English Pointer', 'Pointer/Siberian Husky',\n",
       "       'Cane Corso/Pit Bull'], dtype=object)"
      ]
     },
     "execution_count": 16,
     "metadata": {},
     "output_type": "execute_result"
    }
   ],
   "source": [
    "df['Breed'].unique()"
   ]
  },
  {
   "cell_type": "code",
   "execution_count": 17,
   "metadata": {},
   "outputs": [
    {
     "data": {
      "text/plain": [
       "array(['Bat', 'Bat Mix', 'Hamster Mix', 'Raccoon', 'Raccoon Mix',\n",
       "       'Rabbit Sh Mix', 'Skunk Mix', 'Cinnamon', 'Rabbit Sh', 'Opossum',\n",
       "       'Skunk', 'Dutch/Angora-Satin', 'Fox', 'Rat', 'Guinea Pig Mix',\n",
       "       'Ferret', 'Cold Water', 'Rat Mix', 'Opossum Mix', 'Guinea Pig',\n",
       "       'Rex', 'Snake/Python', 'Lop-Mini/Hotot', 'Lizard', 'Californian',\n",
       "       'Silver Mix', 'Cold Water Mix', 'Squirrel Mix', 'Ferret Mix',\n",
       "       'Rex Mix', 'Hedgehog', 'Sugar Glider', 'Rex-Mini Mix', 'Fox Mix',\n",
       "       'Mouse', 'Hamster', 'Lionhead', 'Hotot', 'Turtle Mix',\n",
       "       'American Mix', 'Squirrel', 'Turtle', 'Armadillo Mix', 'Coyote',\n",
       "       'Angora-French Mix', 'Rabbit Lh', 'Lop-Amer Fuzzy', 'Havana Mix',\n",
       "       'Californian Mix', 'Tortoise', 'Snake', 'Dutch', 'Lop-Mini Mix',\n",
       "       'Lop-English Mix', 'Netherlnd Dwarf Mix', 'Lizard Mix',\n",
       "       'Armadillo', 'Bobcat Mix', 'Coyote Mix', 'Hotot Mix',\n",
       "       'Lop-Holland', 'Rabbit Lh Mix', 'Gerbil', 'Chinchilla Mix',\n",
       "       'Lionhead Mix', 'New Zealand Wht Mix', 'English Spot', 'Dutch Mix',\n",
       "       'Havana', 'Mouse Mix', 'Checkered Giant Mix', 'Tortoise Mix',\n",
       "       'American Sable', 'Lop-Holland Mix', 'Lop-Mini', 'Tarantula',\n",
       "       'Ringtail Mix', 'Polish Mix', 'Cottontail Mix', 'Dwarf Hotot',\n",
       "       'New Zealand Wht', 'Rex-Mini', 'English Spot Mix', 'Beveren Mix',\n",
       "       'Himalayan Mix', 'Otter', 'Snake Mix', 'Angora-Satin Mix',\n",
       "       'Gerbil Mix', 'Chinchilla', 'Netherlnd Dwarf', 'Belgian Hare',\n",
       "       'Rhinelander Mix', 'Lop-Mini/Lop-Holland', 'Chinchilla-Stnd Mix',\n",
       "       'Polish', 'Jersey Wooly Mix', 'Cottontail', 'Angora-English Mix',\n",
       "       'American', 'Otter Mix', 'Flemish Giant Mix', 'Harlequin Mix',\n",
       "       'Britannia Petit Mix', 'Cinnamon Mix', 'Prairie Dog Mix',\n",
       "       'Lop-English', 'Flemish Giant', 'Rex/Lop-English',\n",
       "       'Hermit Crab Mix', 'Rex-Mini/Lop-English', 'Belgian Hare Mix',\n",
       "       'Chinchilla-Amer', 'Lop-Amer Fuzzy Mix', 'Angora-Satin',\n",
       "       'Chinchilla-Amer Mix', 'Dutch/Rabbit Sh', 'American Sable Mix',\n",
       "       'Rabbit Sh/Lop-Mini', 'Tropical Mix', 'Frog', 'Deer Mix',\n",
       "       'Snake/Snake'], dtype=object)"
      ]
     },
     "execution_count": 17,
     "metadata": {},
     "output_type": "execute_result"
    }
   ],
   "source": [
    "df.query('Animal == \"Other\"')['Breed'].unique()"
   ]
  },
  {
   "cell_type": "code",
   "execution_count": 18,
   "metadata": {},
   "outputs": [
    {
     "data": {
      "text/plain": [
       "array(['Tricolor', 'White/Liver', 'Sable/White', 'Calico', 'Tan/Gray',\n",
       "       'Chocolate', 'Black', 'Brown Tabby', 'Black/White', 'Cream Tabby',\n",
       "       'White/Tan', 'Brown/White', 'Brown Tabby/White', 'Torbie',\n",
       "       'Tan/White', 'Tortie', 'Blue/White', 'Brown/Cream', 'Brown',\n",
       "       'White/Black', 'Blue', 'White', 'Black/Red', 'Brown Brindle/White',\n",
       "       'Gray Tabby', 'Tan', 'Chocolate/Brown', 'White/Gray', 'Black/Gray',\n",
       "       'Brown Merle', 'Orange Tabby', 'White/Blue', 'Sable/Tan',\n",
       "       'Brown/Black', 'Black/Tricolor', 'Black/Brown Brindle',\n",
       "       'Gray/Black', 'Blue Tabby', 'Yellow', 'White/Cream',\n",
       "       'Cream Tabby/White', 'Red/White', 'Black/Tan', 'Black/Brown',\n",
       "       'Brown/Yellow', 'White/Brown', 'Gray', 'Orange Tabby/White',\n",
       "       'Brown Tiger/White', 'Brown Tabby/Black', 'Chocolate/White',\n",
       "       'Tan/Black', 'Chocolate/Tan', 'White/Brown Tabby', 'Buff/White',\n",
       "       'Cream', 'Tricolor/Brown', 'Gray/White', 'Gray/Yellow',\n",
       "       'Fawn/White', 'Red Tick', 'Blue Tabby/White', 'Lynx Point',\n",
       "       'Blue Merle', 'Brown Brindle', 'White/Brown Brindle', 'Red',\n",
       "       'Blue Tiger/White', 'Black Brindle', 'Cream/Black', 'Calico/White',\n",
       "       'Blue Cream/White', 'Black Brindle/White', 'Black/Black',\n",
       "       'Red/Black', 'Buff', 'Gold/White', 'Black/Buff', 'Tan/Brown',\n",
       "       'Brown/Tan', 'Black/Blue', 'Silver', 'Black Tabby', 'Black Smoke',\n",
       "       'White/Orange Tabby', 'Cream/Brown', 'Silver Tabby',\n",
       "       'Tricolor/White', 'Black Smoke/White', 'Gray Tabby/Black',\n",
       "       'Blue Merle/White', 'Cream/White', 'Sable', 'Black/Blue Tick',\n",
       "       'Tan/Blue Merle', 'Seal Point/White', 'Seal Point', 'White/Buff',\n",
       "       'Brown/Silver', 'Gray/Tan', 'Fawn', 'Apricot', 'White/Tricolor',\n",
       "       'Brown Tiger', 'White/Orange', 'Lynx Point/Gray', 'Blue/Tan',\n",
       "       'Blue Cream', 'White/Yellow', 'Red Merle', 'Cream/Tan',\n",
       "       'Torbie/White', 'White/Chocolate', 'White/Red', 'Tan/Tricolor',\n",
       "       'Brown Merle/Chocolate', 'Tortie/White', 'Lilac Point',\n",
       "       'Brown Merle/White', 'Gray/Pink', 'Gold', 'Blue Merle/Cream',\n",
       "       'Fawn/Black', 'Gray/Orange', 'Brown Tabby/Orange',\n",
       "       'Calico/Brown Tabby', 'Brown/Tricolor', 'Lynx Point/Tan',\n",
       "       'Flame Point', 'Cream Tabby/Orange Tabby', 'Orange/White',\n",
       "       'Blue Merle/Red', 'Red/Brown', 'Chocolate Point', 'Blue Tick',\n",
       "       'White/Blue Tabby', 'Black/Yellow', 'Blue Point', 'Brown/Brown',\n",
       "       'Tortie/Blue Cream', 'Silver/Cream', 'Blue Tick/Black',\n",
       "       'Brown Brindle/Black', 'Red Merle/White', 'Sable/Brown',\n",
       "       'Gray Tabby/White', 'White/Cream Tabby', 'Lynx Point/White',\n",
       "       'Tricolor/Black', 'Sable/Black', 'Tortie Point', 'Gray/Cream',\n",
       "       'Brown/Gray', 'Torbie/Calico', 'White/Blue Merle', 'Gray/Brown',\n",
       "       'Gray/Gray', 'Red Merle/Black', 'Yellow/White',\n",
       "       'White/Black Brindle', 'Orange', 'White/Brown Merle', 'Gold/Brown',\n",
       "       'Red Tick/Orange', 'Tan/Buff', 'Red Tick/Tricolor',\n",
       "       'Black Tabby/White', 'Silver/Brown', 'Silver/Tan', 'White/White',\n",
       "       'Silver Tabby/White', 'Agouti/White', 'Gold/Gold',\n",
       "       'Red Tick/White', 'Chocolate/Tricolor', 'Calico/Black',\n",
       "       'Tan/Silver', 'Chocolate/Cream', 'Agouti/Gray',\n",
       "       'Lynx Point/Tortie Point', 'Liver/White', 'Black/Cream',\n",
       "       'Tan/Cream', 'Silver/Black', 'Red/Tan', 'Brown Brindle/Brown',\n",
       "       'Tan/Tan', 'Yellow/Black', 'Gold/Black', 'Orange Tabby/Cream',\n",
       "       'Blue/Black', 'White/Black Tabby', 'Black/Chocolate',\n",
       "       'Tricolor/Brown Merle', 'Red/Gray', 'White/Black Tiger',\n",
       "       'Blue/Gray', 'Brown/Red', 'Blue/Tricolor', 'Brown Brindle/Blue',\n",
       "       'Chocolate/Brown Brindle', 'Yellow Brindle/White', 'Blue Tick/Tan',\n",
       "       'Brown/Fawn', 'Black Brindle/Brown', 'Tricolor/Brown Brindle',\n",
       "       'Red Tick/Brown Brindle', 'White/Fawn', 'Black/Silver',\n",
       "       'Fawn/Tricolor', 'Red/Red Tick', 'Blue Tick/Brown',\n",
       "       'Yellow Brindle', 'Sable/Cream', 'Gray/Silver', 'Red Tick/Tan',\n",
       "       'Black/Brown Tabby', 'Green', 'Brown/Pink', 'Red/Cream',\n",
       "       'Silver Lynx Point/Gray', 'Apricot/Tricolor', 'Tricolor/Red Tick',\n",
       "       'Cream/Silver', 'Silver Lynx Point', 'Tan/Fawn',\n",
       "       'Brown Tabby/Gray', 'White/Silver', 'Brown/Chocolate',\n",
       "       'Blue Merle/Tan', 'Black/Fawn', 'Gray/Red', 'Green/Yellow',\n",
       "       'Brown/Brown Merle', 'White/Silver Tabby', 'Gray/Brown Brindle',\n",
       "       'Red/Silver', 'Blue Tabby/Cream', 'Sable/Gray', 'Gray/Tortie',\n",
       "       'Calico Point', 'Blue/Brown', 'Blue Merle/Black',\n",
       "       'White/Gray Tabby', 'Black Brindle/Black', 'Brown Tabby/Brown',\n",
       "       'Blue Tabby/Buff', 'Blue Smoke', 'Blue/Cream', 'Silver/Orange',\n",
       "       'Tan/Brown Brindle', 'Brown Brindle/Tan', 'Buff/Yellow',\n",
       "       'Calico Point/White', 'Blue Tick/Tricolor', 'Buff/Tan',\n",
       "       'Black/Black Brindle', 'White/Tortie', 'Pink', 'Yellow/Green',\n",
       "       'Green/Red', 'Chocolate Point/White', 'Brown/Brown Tabby',\n",
       "       'Red/Yellow', 'Black/Blue Merle', 'Silver/Red', 'Apricot/White',\n",
       "       'White/Calico', 'Silver/Gray', 'White/Chocolate Point',\n",
       "       'Yellow/Tan', 'Tan/Gold', 'Brown/Brown Brindle',\n",
       "       'Brown Merle/Brown Tabby', 'Chocolate/Liver Tick', 'Tortie/Black',\n",
       "       'Blue Tick/White', 'Orange/Brown', 'Gold/Yellow',\n",
       "       'Blue Merle/Brown', 'Brown Tabby/Calico', 'Green/Brown',\n",
       "       'White/Yellow Brindle', 'Silver/White', 'Sable/Red Merle',\n",
       "       'Cream/Red', 'Chocolate/Black', 'Orange/Orange Tabby',\n",
       "       'White/Red Merle', 'White/Seal Point', 'Black/Orange',\n",
       "       'White/Blue Tick', 'Brown Brindle/Blue Tick', 'Blue Tiger',\n",
       "       'Buff/Brown', 'Buff/Black', 'Tricolor/Silver', 'Tricolor/Tan',\n",
       "       'Blue/Tortie', 'White/Green', 'Lilac Point/White', 'Liver Tick',\n",
       "       'Agouti', 'White/Tortie Point', 'Torbie/Gray', 'Black/Black Smoke',\n",
       "       'White/Red Tick', 'Blue Merle/Tricolor', 'Torbie/Blue Cream',\n",
       "       'Black/Gold', 'Blue Tabby/Tortie', 'Gray/Blue Merle',\n",
       "       'Tortie/Gray', 'Blue Tabby/Brown', 'Cream/Brown Merle',\n",
       "       'Brown Tabby/Cream', 'Brown/Green', 'Blue Tabby/Orange',\n",
       "       'Tricolor/Blue Tick', 'Blue Merle/Blue Merle', 'Red/Buff',\n",
       "       'Tortie/Orange', 'Tan/Red', 'Tan/Red Tick', 'Yellow/Orange Tabby',\n",
       "       'Gray Tabby/Brown', 'Sable/Buff', 'Tricolor/Blue Merle',\n",
       "       'Liver/Chocolate', 'Sable/Red', 'Black/Gray Tabby',\n",
       "       'Black Smoke/Brown Tabby', 'Cream/Seal Point', 'Red Tick/Brown',\n",
       "       'Torbie/Brown Tabby', 'Gray/Blue', 'White/Brown Tiger',\n",
       "       'Tortie/Tortie', 'Brown/Buff', 'Brown Tabby/Brown Tabby',\n",
       "       'White/Black Smoke', 'White/Lynx Point', 'Blue/Brown Brindle',\n",
       "       'Apricot/Brown', 'Tan/Blue', 'Blue/Blue', 'Brown/Orange',\n",
       "       'Black/Green', 'Tricolor/Blue', 'Cream/Gray', 'Fawn/Gray',\n",
       "       'Brown Brindle/Red Tick', 'Tricolor/Gray', 'Brown/Black Tabby',\n",
       "       'Blue/Yellow Brindle', 'Orange/Tan', 'Liver', 'Cream/Yellow',\n",
       "       'Fawn/Tan', 'Tortie Point/Lynx Point', 'Buff/Red',\n",
       "       'Chocolate/Gray', 'Gray/Gray Tabby', 'Black/Yellow Brindle',\n",
       "       'Gold/Gray', 'Tortie Point/Seal Point', 'Black/Seal Point',\n",
       "       'Fawn/Blue', 'Yellow/Gray', 'Silver/Silver Tabby',\n",
       "       'Blue Cream/Tortie', 'Gray/Gold', 'Brown Tabby/Silver',\n",
       "       'Yellow/Orange', 'Brown/Red Tick', 'Black Tabby/Orange',\n",
       "       'Black Smoke/Black Tiger', 'Fawn/Chocolate', 'Black Tiger/White',\n",
       "       'Green/Black', 'Torbie/Brown', 'Chocolate/Gold', 'Calico/Tricolor',\n",
       "       'Liver/Blue', 'Red/Tricolor', 'Chocolate/Fawn', 'Gray/Green',\n",
       "       'Blue/Silver', 'Red/Red Merle', 'Yellow/Cream', 'Blue/Orange',\n",
       "       'Chocolate/Red', 'Tortie Point/White', 'Orange/Black',\n",
       "       'Calico/Brown', 'Brown/Blue Merle', 'Black Tabby/Black',\n",
       "       'Brown Merle/Black', 'Brown Tabby/Tortie', 'Yellow Brindle/Blue',\n",
       "       'Green/Orange', 'Cream/Blue Point', 'Calico/Calico',\n",
       "       'Gray/Tricolor', 'Cream Tiger', 'White/Gold', 'Fawn/Brown',\n",
       "       'Blue Point/White', 'Tan/Red Merle', 'Brown Merle/Tan',\n",
       "       'White/Liver Tick', 'Tricolor/Red', 'Blue Cream/Blue Tiger',\n",
       "       'Black/Pink', 'Blue Smoke/White', 'Cream Tiger/Brown Tabby',\n",
       "       'Red Tick/Red', 'Liver/Tan', 'Chocolate/Chocolate', 'Tortie/Brown',\n",
       "       'Gray Tabby/Orange', 'Red/Gold', 'Blue Tabby/Tan', 'Tortie/Calico',\n",
       "       'Orange Tabby/Brown', 'Blue Merle/Red Merle', 'Lilac Point/Cream',\n",
       "       'Tan/Apricot', 'Brown Merle/Brown', 'Blue Cream/Blue Tabby',\n",
       "       'Black Smoke/Black Tabby', 'Buff/Cream', 'Black/Brown Merle',\n",
       "       'Black Brindle/Brown Brindle', 'Silver Tabby/Black',\n",
       "       'Torbie/Blue Tabby', 'Blue/Black Brindle', 'Tan/Yellow',\n",
       "       'Black/Black Tabby', 'Brown Tabby/Black Tabby', 'Gold/Tan',\n",
       "       'Flame Point/White', 'Brown Brindle/Tricolor', 'Blue Tabby/Black',\n",
       "       'Green/White', 'Red Tick/Blue', 'White/Blue Cream',\n",
       "       'Chocolate/Seal Point', 'Black Smoke/Brown', 'Tan/Brown Merle',\n",
       "       'Brown/Seal Point', 'Orange Tiger', 'White/Pink',\n",
       "       'Brown Brindle/Gray', 'White/Apricot', 'Red Merle/Tan',\n",
       "       'Orange Tabby/Orange', 'Tortie/Blue', 'Blue Tick/Red',\n",
       "       'Blue/Calico', 'Chocolate/Brown Merle', 'White/Gray Tiger',\n",
       "       'Torbie/Black', 'Brown Merle/Gray', 'Tricolor/Orange',\n",
       "       'Calico/Gray Tabby', 'Blue Tabby/Blue Cream', 'Lynx Point/Blue',\n",
       "       'Orange/Gray', 'Red Tick/Black', 'Gray/Buff', 'Lilac Point/Gray',\n",
       "       'Liver Tick/White', 'Seal Point/Brown', 'Brown Tabby/Blue',\n",
       "       'Blue Tick/Brown Brindle', 'Black Tabby/Gray', 'Green/Gray',\n",
       "       'Yellow/Red', 'Seal Point/Cream', 'White/Lilac Point',\n",
       "       'Flame Point/Cream', 'Cream/Tricolor', 'Black Brindle/Blue Tick',\n",
       "       'Brown Brindle/Black Brindle', 'Cream Tabby/Cream Tabby',\n",
       "       'Seal Point/Buff', 'Black Tiger', 'Calico/Orange Tabby',\n",
       "       'Gray Tabby/Gray', 'White/Blue Tiger', 'Green/Gold',\n",
       "       'Gray Tabby/Brown Tabby', 'Brown Tabby/Red', 'Green/Blue',\n",
       "       'Black/Tortie', 'Calico/Blue Cream', 'Tan/Yellow Brindle',\n",
       "       'Buff/Gray', 'Brown Brindle/Brown Merle', 'Orange Tabby/Black',\n",
       "       'Blue/Yellow', 'Red Tick/Blue Tick', 'Yellow/Brown', 'Gold/Cream',\n",
       "       'Chocolate/Brown Tabby', 'Tortie/Black Smoke', 'Red/Red',\n",
       "       'Orange/Blue', 'Seal Point/Gray', 'Liver/Buff', 'Gold/Silver',\n",
       "       'Brown Tabby/Agouti', 'Red/Brown Brindle', 'Brown/Black Smoke',\n",
       "       'Red/Green', 'Brown/Black Brindle', 'White/Flame Point',\n",
       "       'Cream/Gold', 'Brown/Red Merle', 'Calico/Orange',\n",
       "       'Red Tick/Brown Merle', 'Silver/Chocolate',\n",
       "       'Orange Tabby/Orange Tabby', 'Brown Tabby/Lynx Point',\n",
       "       'Cream/Blue', 'Blue/Blue Merle', 'Blue Tick/Red Tick',\n",
       "       'Green/Silver', 'Tricolor/Calico', 'Liver/Liver Tick',\n",
       "       'Brown Tabby/Black Brindle', 'Red Merle/Brown Merle',\n",
       "       'Blue Smoke/Brown', 'Blue Merle/Gray', 'Brown/Blue',\n",
       "       'Calico/Blue Tabby', 'Black/Silver Tabby', 'Tan/Chocolate Point',\n",
       "       'Cream/Red Tick', 'White/Agouti', 'Cream/Orange',\n",
       "       'Blue Smoke/Gray', 'Brown/Apricot', 'Tortie Point/Cream',\n",
       "       'Black Smoke/Gray', 'Silver/Blue', 'Fawn/Brown Brindle',\n",
       "       'Black Smoke/Chocolate', 'Blue/Green', 'Gold/Buff',\n",
       "       'Black Brindle/Blue', 'Orange Tabby/Apricot', 'Blue Cream/Buff',\n",
       "       'Lynx Point/Gray Tabby', 'Blue Point/Cream',\n",
       "       'Brown Brindle/Blue Cream', 'Tricolor/Chocolate', 'Ruddy/Cream',\n",
       "       'Gray/Fawn', 'Brown Brindle/Brown Brindle', 'Chocolate/Red Tick',\n",
       "       'Brown Tiger/Brown', 'Cream Tabby/Orange', 'Black Brindle/Tan',\n",
       "       'Brown Merle/Blue Merle', 'Red Merle/Brown', 'Brown/Liver',\n",
       "       'Orange Tabby/Tortie Point', 'White/Calico Point',\n",
       "       'Agouti/Brown Tabby', 'Chocolate Point/Cream', 'Lilac Point/Black',\n",
       "       'Yellow/Yellow', 'Brown Brindle/Liver Tick', 'Torbie/Silver Tabby',\n",
       "       'Calico Point/Lynx Point', 'Chocolate/Yellow',\n",
       "       'Chocolate/Blue Tick', 'Yellow/Blue', 'Brown Tabby/Orange Tabby',\n",
       "       'Blue Tiger/Tan', 'Lynx Point/Brown Tabby', 'Tricolor/Cream',\n",
       "       'Cream/Cream', 'Black Smoke/Black', 'Silver Lynx Point/White',\n",
       "       'Red/Blue', 'Lynx Point/Cream', 'Tan/Cream Tabby', 'Fawn/Cream',\n",
       "       'Calico Point/Gray', 'Black Smoke/Blue Tick',\n",
       "       'Blue Merle/Brown Brindle', 'Brown/Gold', 'Tortie/Blue Tabby',\n",
       "       'Agouti/Cream', 'Tortie Point/Blue', 'Tortie/Gold', 'Calico/Gray',\n",
       "       'Black Tabby/Gray Tabby', 'Brown Tabby/Gray Tabby',\n",
       "       'Tricolor/Tricolor', 'Red Merle/Red Merle', 'Red Merle/Tricolor',\n",
       "       'Blue/Gold', 'Blue Point/Lynx Point', 'Brown Brindle/Fawn',\n",
       "       'Tan/Blue Tick', 'Yellow Brindle/Black', 'Tricolor/Fawn',\n",
       "       'Blue/Fawn'], dtype=object)"
      ]
     },
     "execution_count": 18,
     "metadata": {},
     "output_type": "execute_result"
    }
   ],
   "source": [
    "df['Color'].unique()"
   ]
  },
  {
   "cell_type": "markdown",
   "metadata": {},
   "source": [
    "# Average Daily Intake by Category\n",
    "\n",
    "<div class=\"alert alert-block alert-success\">\n",
    "<span style=\"color:black\">\n",
    "For the course of the entire data set, stray animal intakes, intakes of normal condition, and dogs had the highest average daily intake. \n",
    "\n",
    "## Intake Type\n",
    "- <b>Stray</b>: about 31 average daily intakes \n",
    "- <b>Owner Surrender</b>: about 9 average daily intakes \n",
    "- <b>Public Assist</b>: about 2 average daily intakes \n",
    "\n",
    "## Intake Condition\n",
    "- <b>Normal</b>: about 39 average daily intakes \n",
    "- <b>Injured</b>: about 3 average daily intakes \n",
    "- <b>Sick</b>: about 2 average daily intakes \n",
    "\n",
    "## Animal Type\n",
    "- <b>Dog</b>: about 25 average daily intakes \n",
    "- <b>Cat</b>: about 17 average daily intakes \n",
    "- <b>Other</b>: about 2 average daily intakes \n",
    "</span>\n",
    "</div>"
   ]
  },
  {
   "cell_type": "code",
   "execution_count": 19,
   "metadata": {},
   "outputs": [],
   "source": [
    "def counting(pdf, col):\n",
    "    \"\"\" Returns a list of the average number of daily intakes of animals under unique category in a column.\"\"\"\n",
    "    \n",
    "    finlist = []\n",
    "    category = pdf[col]\n",
    "    for x in category.unique():\n",
    "        categoryf = pdf[category == x]\n",
    "        dataf = categoryf.set_index('Date')\n",
    "        dailynumer = dataf.groupby(pd.Grouper(freq='D'))['AnimalID'].count()\n",
    "        finlist.append(x + \" \" + str(round(dailynumer.mean(), 2)))\n",
    "    print(finlist)"
   ]
  },
  {
   "cell_type": "code",
   "execution_count": 20,
   "metadata": {},
   "outputs": [
    {
     "name": "stdout",
     "output_type": "stream",
     "text": [
      "['Stray 30.95', 'Owner Surrender 9.19', 'Public Assist 2.7', 'Wildlife 1.74', 'Euthanasia Request 0.09', 'Abandoned 0.91']\n"
     ]
    }
   ],
   "source": [
    "# Here are average daily intakes by intake type. \n",
    "counting(df, 'Intake')"
   ]
  },
  {
   "cell_type": "code",
   "execution_count": 20,
   "metadata": {},
   "outputs": [
    {
     "name": "stdout",
     "output_type": "stream",
     "text": [
      "['Normal 38.7', 'Sick 1.92', 'Injured 2.5', 'Pregnant 0.03', 'Nursing 1.37', 'Aged 0.15', 'Medical 0.19', 'Other 0.08', 'Neonatal 0.96', 'Feral 0.04', 'Behavior 0.05', 'Med Urgent 0.12', 'Space 2.0', 'Med Attn 0.03', 'Panleuk 1.0']\n"
     ]
    }
   ],
   "source": [
    "# Here are average daily intakes by intake condition. \n",
    "counting(df, 'Condition')"
   ]
  },
  {
   "cell_type": "code",
   "execution_count": 21,
   "metadata": {},
   "outputs": [
    {
     "name": "stdout",
     "output_type": "stream",
     "text": [
      "['Dog 25.21', 'Cat 17.06', 'Other 2.38', 'Bird 0.21', 'Livestock 0.01']\n"
     ]
    }
   ],
   "source": [
    "# Here are average daily intakes by animal type. \n",
    "counting(df, 'Animal')"
   ]
  },
  {
   "cell_type": "markdown",
   "metadata": {},
   "source": [
    "# Total Intake by Category\n",
    "<div class=\"alert alert-bock alert-success\">\n",
    "<span style=\"color:black\">\n",
    "    \n",
    "Stray animals, animals of normal condition, and non-neutered male animals consisted of the majority of animal intakes. Fun Fact: the most common name among named animals was Max (612 intakes)! Other popular names incuded Bella (560), Luna (558), Rocky (414), and Daisy (396). \n",
    "\n",
    "## Intake Type\n",
    "- <b>Stray</b>: about 69% of all intakes (93,028 intakes total)\n",
    "- <b>Owner Surrender</b>: about 20% of all intakes (27,613 intakes total)\n",
    "- <b>Public Assist</b>: about 6% of all intakes (8,099 intakes total)\n",
    "\n",
    "## Intake Condition\n",
    "- <b>Normal</b>: about 86% of all intakes (116,330 intakes total)  \n",
    "- <b>Injured</b>: about 6% of all intakes (7,520 intakes total)\n",
    "- <b>Sick</b>: about 4% of all intakes (5,771 intakes total)\n",
    "\n",
    "## Sex\n",
    "- <b>Intact Male</b>: about 33% of all intakes (44,290 intakes total)  \n",
    "- <b>Intact Female</b>: about 31% of all intakes (42,046 intakes total)\n",
    "- <b>Neutered Male</b>: about 15% of all intakes (20,395 intakes total)\n",
    "- <b>Spayed Female</b>: about 13% of all intakes (17,330 intakes total)\n",
    "</span>\n",
    "</div>"
   ]
  },
  {
   "cell_type": "code",
   "execution_count": 21,
   "metadata": {},
   "outputs": [
    {
     "data": {
      "text/html": [
       "<div>\n",
       "<style scoped>\n",
       "    .dataframe tbody tr th:only-of-type {\n",
       "        vertical-align: middle;\n",
       "    }\n",
       "\n",
       "    .dataframe tbody tr th {\n",
       "        vertical-align: top;\n",
       "    }\n",
       "\n",
       "    .dataframe thead th {\n",
       "        text-align: right;\n",
       "    }\n",
       "</style>\n",
       "<table border=\"1\" class=\"dataframe\">\n",
       "  <thead>\n",
       "    <tr style=\"text-align: right;\">\n",
       "      <th></th>\n",
       "      <th>Count</th>\n",
       "    </tr>\n",
       "    <tr>\n",
       "      <th>Intake</th>\n",
       "      <th></th>\n",
       "    </tr>\n",
       "  </thead>\n",
       "  <tbody>\n",
       "    <tr>\n",
       "      <th>Stray</th>\n",
       "      <td>93028</td>\n",
       "    </tr>\n",
       "    <tr>\n",
       "      <th>Owner Surrender</th>\n",
       "      <td>27613</td>\n",
       "    </tr>\n",
       "    <tr>\n",
       "      <th>Public Assist</th>\n",
       "      <td>8099</td>\n",
       "    </tr>\n",
       "    <tr>\n",
       "      <th>Wildlife</th>\n",
       "      <td>5218</td>\n",
       "    </tr>\n",
       "    <tr>\n",
       "      <th>Abandoned</th>\n",
       "      <td>648</td>\n",
       "    </tr>\n",
       "  </tbody>\n",
       "</table>\n",
       "</div>"
      ],
      "text/plain": [
       "                 Count\n",
       "Intake                \n",
       "Stray            93028\n",
       "Owner Surrender  27613\n",
       "Public Assist     8099\n",
       "Wildlife          5218\n",
       "Abandoned          648"
      ]
     },
     "execution_count": 21,
     "metadata": {},
     "output_type": "execute_result"
    }
   ],
   "source": [
    "# Here are total intakes by intake type. \n",
    "intaketype = df[['Intake', 'AnimalID']].groupby(by='Intake').count().sort_values('AnimalID', ascending=False)[:5]\n",
    "intaketype.rename(columns={'AnimalID':'Count'}, inplace=True)\n",
    "intaketype"
   ]
  },
  {
   "cell_type": "code",
   "execution_count": 22,
   "metadata": {},
   "outputs": [],
   "source": [
    "def add_percent(data, column):\n",
    "    percentages = []\n",
    "    for x in data[column]:\n",
    "        percentages.append((x/134864)*100)\n",
    "    return percentages"
   ]
  },
  {
   "cell_type": "code",
   "execution_count": 23,
   "metadata": {},
   "outputs": [
    {
     "data": {
      "text/html": [
       "<div>\n",
       "<style scoped>\n",
       "    .dataframe tbody tr th:only-of-type {\n",
       "        vertical-align: middle;\n",
       "    }\n",
       "\n",
       "    .dataframe tbody tr th {\n",
       "        vertical-align: top;\n",
       "    }\n",
       "\n",
       "    .dataframe thead th {\n",
       "        text-align: right;\n",
       "    }\n",
       "</style>\n",
       "<table border=\"1\" class=\"dataframe\">\n",
       "  <thead>\n",
       "    <tr style=\"text-align: right;\">\n",
       "      <th></th>\n",
       "      <th>Count</th>\n",
       "      <th>Percent_Total</th>\n",
       "    </tr>\n",
       "    <tr>\n",
       "      <th>Intake</th>\n",
       "      <th></th>\n",
       "      <th></th>\n",
       "    </tr>\n",
       "  </thead>\n",
       "  <tbody>\n",
       "    <tr>\n",
       "      <th>Stray</th>\n",
       "      <td>93028</td>\n",
       "      <td>68.979120</td>\n",
       "    </tr>\n",
       "    <tr>\n",
       "      <th>Owner Surrender</th>\n",
       "      <td>27613</td>\n",
       "      <td>20.474700</td>\n",
       "    </tr>\n",
       "    <tr>\n",
       "      <th>Public Assist</th>\n",
       "      <td>8099</td>\n",
       "      <td>6.005309</td>\n",
       "    </tr>\n",
       "    <tr>\n",
       "      <th>Wildlife</th>\n",
       "      <td>5218</td>\n",
       "      <td>3.869083</td>\n",
       "    </tr>\n",
       "    <tr>\n",
       "      <th>Abandoned</th>\n",
       "      <td>648</td>\n",
       "      <td>0.480484</td>\n",
       "    </tr>\n",
       "  </tbody>\n",
       "</table>\n",
       "</div>"
      ],
      "text/plain": [
       "                 Count  Percent_Total\n",
       "Intake                               \n",
       "Stray            93028      68.979120\n",
       "Owner Surrender  27613      20.474700\n",
       "Public Assist     8099       6.005309\n",
       "Wildlife          5218       3.869083\n",
       "Abandoned          648       0.480484"
      ]
     },
     "execution_count": 23,
     "metadata": {},
     "output_type": "execute_result"
    }
   ],
   "source": [
    "intaketype['Percent_Total'] = add_percent(intaketype, 'Count')\n",
    "intaketype"
   ]
  },
  {
   "cell_type": "code",
   "execution_count": 74,
   "metadata": {
    "scrolled": false
   },
   "outputs": [
    {
     "data": {
      "image/png": "[encoded data removed]",
      "text/plain": [
       "<Figure size 576x432 with 1 Axes>"
      ]
     },
     "metadata": {
      "needs_background": "light"
     },
     "output_type": "display_data"
    }
   ],
   "source": [
    "intaketype.plot(kind='bar', y='Count', legend='', color='DarkSeaGreen', figsize=(8,6), fontsize=12)\n",
    "\n",
    "plt.title('Animal Intakes by Intake Type', size=14)\n",
    "plt.xlabel('Intake Type', fontsize=12)\n",
    "plt.ylabel('Total Animal Intakes', fontsize=12)\n",
    "plt.rc('axes', axisbelow=True)\n",
    "plt.grid(True, clip_on=True)"
   ]
  },
  {
   "cell_type": "code",
   "execution_count": 25,
   "metadata": {},
   "outputs": [
    {
     "data": {
      "text/html": [
       "<div>\n",
       "<style scoped>\n",
       "    .dataframe tbody tr th:only-of-type {\n",
       "        vertical-align: middle;\n",
       "    }\n",
       "\n",
       "    .dataframe tbody tr th {\n",
       "        vertical-align: top;\n",
       "    }\n",
       "\n",
       "    .dataframe thead th {\n",
       "        text-align: right;\n",
       "    }\n",
       "</style>\n",
       "<table border=\"1\" class=\"dataframe\">\n",
       "  <thead>\n",
       "    <tr style=\"text-align: right;\">\n",
       "      <th></th>\n",
       "      <th>Count</th>\n",
       "    </tr>\n",
       "    <tr>\n",
       "      <th>Condition</th>\n",
       "      <th></th>\n",
       "    </tr>\n",
       "  </thead>\n",
       "  <tbody>\n",
       "    <tr>\n",
       "      <th>Normal</th>\n",
       "      <td>116330</td>\n",
       "    </tr>\n",
       "    <tr>\n",
       "      <th>Injured</th>\n",
       "      <td>7520</td>\n",
       "    </tr>\n",
       "    <tr>\n",
       "      <th>Sick</th>\n",
       "      <td>5771</td>\n",
       "    </tr>\n",
       "    <tr>\n",
       "      <th>Nursing</th>\n",
       "      <td>3932</td>\n",
       "    </tr>\n",
       "    <tr>\n",
       "      <th>Aged</th>\n",
       "      <td>457</td>\n",
       "    </tr>\n",
       "  </tbody>\n",
       "</table>\n",
       "</div>"
      ],
      "text/plain": [
       "            Count\n",
       "Condition        \n",
       "Normal     116330\n",
       "Injured      7520\n",
       "Sick         5771\n",
       "Nursing      3932\n",
       "Aged          457"
      ]
     },
     "execution_count": 25,
     "metadata": {},
     "output_type": "execute_result"
    }
   ],
   "source": [
    "# Here are total intakes by intake condition. \n",
    "intakecondition = df[['Condition', 'AnimalID']].groupby(by='Condition').count().sort_values('AnimalID', ascending=False)[:5]\n",
    "intakecondition.rename(columns={'AnimalID':'Count'}, inplace=True)\n",
    "intakecondition"
   ]
  },
  {
   "cell_type": "code",
   "execution_count": 26,
   "metadata": {},
   "outputs": [
    {
     "data": {
      "text/html": [
       "<div>\n",
       "<style scoped>\n",
       "    .dataframe tbody tr th:only-of-type {\n",
       "        vertical-align: middle;\n",
       "    }\n",
       "\n",
       "    .dataframe tbody tr th {\n",
       "        vertical-align: top;\n",
       "    }\n",
       "\n",
       "    .dataframe thead th {\n",
       "        text-align: right;\n",
       "    }\n",
       "</style>\n",
       "<table border=\"1\" class=\"dataframe\">\n",
       "  <thead>\n",
       "    <tr style=\"text-align: right;\">\n",
       "      <th></th>\n",
       "      <th>Count</th>\n",
       "      <th>Percent_Total</th>\n",
       "    </tr>\n",
       "    <tr>\n",
       "      <th>Condition</th>\n",
       "      <th></th>\n",
       "      <th></th>\n",
       "    </tr>\n",
       "  </thead>\n",
       "  <tbody>\n",
       "    <tr>\n",
       "      <th>Normal</th>\n",
       "      <td>116330</td>\n",
       "      <td>86.257267</td>\n",
       "    </tr>\n",
       "    <tr>\n",
       "      <th>Injured</th>\n",
       "      <td>7520</td>\n",
       "      <td>5.575988</td>\n",
       "    </tr>\n",
       "    <tr>\n",
       "      <th>Sick</th>\n",
       "      <td>5771</td>\n",
       "      <td>4.279126</td>\n",
       "    </tr>\n",
       "    <tr>\n",
       "      <th>Nursing</th>\n",
       "      <td>3932</td>\n",
       "      <td>2.915530</td>\n",
       "    </tr>\n",
       "    <tr>\n",
       "      <th>Aged</th>\n",
       "      <td>457</td>\n",
       "      <td>0.338860</td>\n",
       "    </tr>\n",
       "  </tbody>\n",
       "</table>\n",
       "</div>"
      ],
      "text/plain": [
       "            Count  Percent_Total\n",
       "Condition                       \n",
       "Normal     116330      86.257267\n",
       "Injured      7520       5.575988\n",
       "Sick         5771       4.279126\n",
       "Nursing      3932       2.915530\n",
       "Aged          457       0.338860"
      ]
     },
     "execution_count": 26,
     "metadata": {},
     "output_type": "execute_result"
    }
   ],
   "source": [
    "intakecondition['Percent_Total'] = add_percent(intakecondition, 'Count')\n",
    "intakecondition"
   ]
  },
  {
   "cell_type": "code",
   "execution_count": 75,
   "metadata": {
    "scrolled": true
   },
   "outputs": [
    {
     "data": {
      "image/png": "[encoded data removed]",
      "text/plain": [
       "<Figure size 576x432 with 1 Axes>"
      ]
     },
     "metadata": {
      "needs_background": "light"
     },
     "output_type": "display_data"
    }
   ],
   "source": [
    "intakecondition.plot(kind='bar', y='Count', legend='', color='DarkSeaGreen', figsize=(8,6), fontsize=12)\n",
    "\n",
    "plt.title('Animal Intakes by Intake Condition', size=14)\n",
    "plt.xlabel('Intake Condition', fontsize=12)\n",
    "plt.ylabel('Total Animal Intakes', fontsize=12)\n",
    "plt.grid(True, clip_on=True)"
   ]
  },
  {
   "cell_type": "code",
   "execution_count": 76,
   "metadata": {},
   "outputs": [
    {
     "data": {
      "text/html": [
       "<div>\n",
       "<style scoped>\n",
       "    .dataframe tbody tr th:only-of-type {\n",
       "        vertical-align: middle;\n",
       "    }\n",
       "\n",
       "    .dataframe tbody tr th {\n",
       "        vertical-align: top;\n",
       "    }\n",
       "\n",
       "    .dataframe thead th {\n",
       "        text-align: right;\n",
       "    }\n",
       "</style>\n",
       "<table border=\"1\" class=\"dataframe\">\n",
       "  <thead>\n",
       "    <tr style=\"text-align: right;\">\n",
       "      <th></th>\n",
       "      <th>Count</th>\n",
       "    </tr>\n",
       "    <tr>\n",
       "      <th>Sex</th>\n",
       "      <th></th>\n",
       "    </tr>\n",
       "  </thead>\n",
       "  <tbody>\n",
       "    <tr>\n",
       "      <th>Intact Male</th>\n",
       "      <td>44290</td>\n",
       "    </tr>\n",
       "    <tr>\n",
       "      <th>Intact Female</th>\n",
       "      <td>42046</td>\n",
       "    </tr>\n",
       "    <tr>\n",
       "      <th>Neutered Male</th>\n",
       "      <td>20395</td>\n",
       "    </tr>\n",
       "    <tr>\n",
       "      <th>Spayed Female</th>\n",
       "      <td>17330</td>\n",
       "    </tr>\n",
       "    <tr>\n",
       "      <th>Unknown</th>\n",
       "      <td>10802</td>\n",
       "    </tr>\n",
       "  </tbody>\n",
       "</table>\n",
       "</div>"
      ],
      "text/plain": [
       "               Count\n",
       "Sex                 \n",
       "Intact Male    44290\n",
       "Intact Female  42046\n",
       "Neutered Male  20395\n",
       "Spayed Female  17330\n",
       "Unknown        10802"
      ]
     },
     "execution_count": 76,
     "metadata": {},
     "output_type": "execute_result"
    }
   ],
   "source": [
    "# Here are total intakes by sex. \n",
    "sex = df[['Sex', 'AnimalID']].groupby(by='Sex').count().sort_values('AnimalID', ascending=False)[:5]\n",
    "sex.rename(columns={'AnimalID':'Count'}, inplace=True)\n",
    "sex"
   ]
  },
  {
   "cell_type": "code",
   "execution_count": 29,
   "metadata": {},
   "outputs": [
    {
     "data": {
      "text/html": [
       "<div>\n",
       "<style scoped>\n",
       "    .dataframe tbody tr th:only-of-type {\n",
       "        vertical-align: middle;\n",
       "    }\n",
       "\n",
       "    .dataframe tbody tr th {\n",
       "        vertical-align: top;\n",
       "    }\n",
       "\n",
       "    .dataframe thead th {\n",
       "        text-align: right;\n",
       "    }\n",
       "</style>\n",
       "<table border=\"1\" class=\"dataframe\">\n",
       "  <thead>\n",
       "    <tr style=\"text-align: right;\">\n",
       "      <th></th>\n",
       "      <th>Count</th>\n",
       "      <th>Percent_Total</th>\n",
       "    </tr>\n",
       "    <tr>\n",
       "      <th>Sex</th>\n",
       "      <th></th>\n",
       "      <th></th>\n",
       "    </tr>\n",
       "  </thead>\n",
       "  <tbody>\n",
       "    <tr>\n",
       "      <th>Intact Male</th>\n",
       "      <td>44290</td>\n",
       "      <td>32.840491</td>\n",
       "    </tr>\n",
       "    <tr>\n",
       "      <th>Intact Female</th>\n",
       "      <td>42046</td>\n",
       "      <td>31.176593</td>\n",
       "    </tr>\n",
       "    <tr>\n",
       "      <th>Neutered Male</th>\n",
       "      <td>20395</td>\n",
       "      <td>15.122642</td>\n",
       "    </tr>\n",
       "    <tr>\n",
       "      <th>Spayed Female</th>\n",
       "      <td>17330</td>\n",
       "      <td>12.849982</td>\n",
       "    </tr>\n",
       "    <tr>\n",
       "      <th>Unknown</th>\n",
       "      <td>10802</td>\n",
       "      <td>8.009550</td>\n",
       "    </tr>\n",
       "  </tbody>\n",
       "</table>\n",
       "</div>"
      ],
      "text/plain": [
       "               Count  Percent_Total\n",
       "Sex                                \n",
       "Intact Male    44290      32.840491\n",
       "Intact Female  42046      31.176593\n",
       "Neutered Male  20395      15.122642\n",
       "Spayed Female  17330      12.849982\n",
       "Unknown        10802       8.009550"
      ]
     },
     "execution_count": 29,
     "metadata": {},
     "output_type": "execute_result"
    }
   ],
   "source": [
    "sex['Percent_Total'] = add_percent(sex,'Count')\n",
    "sex"
   ]
  },
  {
   "cell_type": "code",
   "execution_count": 77,
   "metadata": {
    "scrolled": true
   },
   "outputs": [
    {
     "data": {
      "image/png": "[encoded data removed]",
      "text/plain": [
       "<Figure size 576x432 with 1 Axes>"
      ]
     },
     "metadata": {
      "needs_background": "light"
     },
     "output_type": "display_data"
    }
   ],
   "source": [
    "sex.plot(kind='bar', y='Count', legend='', color='DarkSeaGreen', figsize=(8,6), fontsize=12)\n",
    "\n",
    "plt.title('Animal Intakes by Sex', size=14)\n",
    "plt.xlabel('Sex', fontsize=12)\n",
    "plt.ylabel('Total Animal Intakes', fontsize=12)\n",
    "plt.grid(True, clip_on=True)"
   ]
  },
  {
   "cell_type": "code",
   "execution_count": 31,
   "metadata": {},
   "outputs": [
    {
     "data": {
      "text/html": [
       "<div>\n",
       "<style scoped>\n",
       "    .dataframe tbody tr th:only-of-type {\n",
       "        vertical-align: middle;\n",
       "    }\n",
       "\n",
       "    .dataframe tbody tr th {\n",
       "        vertical-align: top;\n",
       "    }\n",
       "\n",
       "    .dataframe thead th {\n",
       "        text-align: right;\n",
       "    }\n",
       "</style>\n",
       "<table border=\"1\" class=\"dataframe\">\n",
       "  <thead>\n",
       "    <tr style=\"text-align: right;\">\n",
       "      <th></th>\n",
       "      <th>Count</th>\n",
       "    </tr>\n",
       "    <tr>\n",
       "      <th>Name</th>\n",
       "      <th></th>\n",
       "    </tr>\n",
       "  </thead>\n",
       "  <tbody>\n",
       "    <tr>\n",
       "      <th>Max</th>\n",
       "      <td>612</td>\n",
       "    </tr>\n",
       "    <tr>\n",
       "      <th>Bella</th>\n",
       "      <td>560</td>\n",
       "    </tr>\n",
       "    <tr>\n",
       "      <th>Luna</th>\n",
       "      <td>558</td>\n",
       "    </tr>\n",
       "    <tr>\n",
       "      <th>Rocky</th>\n",
       "      <td>414</td>\n",
       "    </tr>\n",
       "    <tr>\n",
       "      <th>Daisy</th>\n",
       "      <td>396</td>\n",
       "    </tr>\n",
       "    <tr>\n",
       "      <th>Coco</th>\n",
       "      <td>350</td>\n",
       "    </tr>\n",
       "    <tr>\n",
       "      <th>Princess</th>\n",
       "      <td>343</td>\n",
       "    </tr>\n",
       "    <tr>\n",
       "      <th>Charlie</th>\n",
       "      <td>342</td>\n",
       "    </tr>\n",
       "    <tr>\n",
       "      <th>Lucy</th>\n",
       "      <td>333</td>\n",
       "    </tr>\n",
       "    <tr>\n",
       "      <th>Buddy</th>\n",
       "      <td>333</td>\n",
       "    </tr>\n",
       "  </tbody>\n",
       "</table>\n",
       "</div>"
      ],
      "text/plain": [
       "          Count\n",
       "Name           \n",
       "Max         612\n",
       "Bella       560\n",
       "Luna        558\n",
       "Rocky       414\n",
       "Daisy       396\n",
       "Coco        350\n",
       "Princess    343\n",
       "Charlie     342\n",
       "Lucy        333\n",
       "Buddy       333"
      ]
     },
     "execution_count": 31,
     "metadata": {},
     "output_type": "execute_result"
    }
   ],
   "source": [
    "# Here are the most common names of named animals. \n",
    "names = df[['Name', 'AnimalID']].groupby(by='Name').count().sort_values('AnimalID',ascending=False)[:10]\n",
    "names.rename(columns={'AnimalID':'Count'}, inplace=True)\n",
    "names"
   ]
  },
  {
   "cell_type": "code",
   "execution_count": 78,
   "metadata": {},
   "outputs": [
    {
     "data": {
      "image/png": "[encoded data removed]",
      "text/plain": [
       "<Figure size 576x432 with 1 Axes>"
      ]
     },
     "metadata": {
      "needs_background": "light"
     },
     "output_type": "display_data"
    }
   ],
   "source": [
    "df.groupby(by='Name')['AnimalID'].count().sort_values(ascending=False)[:10].plot(kind='bar', \n",
    "                                                                                 figsize=(8,6), color='DarkSeaGreen',\n",
    "                                                                                fontsize=12)\n",
    "plt.title('Most Common Names', size=14)\n",
    "plt.xlabel('Name', fontsize=12)\n",
    "plt.ylabel('Count', fontsize=12)\n",
    "plt.grid(True, clip_on=True)"
   ]
  },
  {
   "cell_type": "markdown",
   "metadata": {},
   "source": [
    "# Date and Time Data\n",
    "\n",
    "<div class=\"alert alert-block alert-success\">\n",
    "<span style=\"color:black\">\n",
    "\n",
    "The data set spans from October 1, 2013 to December 23, 2021. For the purpose of analysis, we have set the start of the COVID-19 pandemic on March 15, 2020. The pandemic day with the most intakes was June 15th, 2021, with 85 intakes. The prepandemic day with the most animal intakes was July 9th, 2014, with 140 animal intakes. \n",
    "    \n",
    "Prior to the pandemic, animal intakes tended to spike between June and July. Intakes also took a downwards trend between the fall and winter, presumably due to the holiday season, winter vacations, and/or inclement weather. The pandemic followed the same general pattern. \n",
    "\n",
    "    \n",
    "</span>\n",
    "</div>"
   ]
  },
  {
   "cell_type": "code",
   "execution_count": 33,
   "metadata": {},
   "outputs": [
    {
     "data": {
      "text/plain": [
       "Timestamp('2021-12-23 16:51:00')"
      ]
     },
     "execution_count": 33,
     "metadata": {},
     "output_type": "execute_result"
    }
   ],
   "source": [
    "# Here is the most recent date of the data set. \n",
    "df['Date'].max()"
   ]
  },
  {
   "cell_type": "code",
   "execution_count": 34,
   "metadata": {},
   "outputs": [
    {
     "data": {
      "text/plain": [
       "Timestamp('2013-10-01 07:51:00')"
      ]
     },
     "execution_count": 34,
     "metadata": {},
     "output_type": "execute_result"
    }
   ],
   "source": [
    "# Here is the earliest date of the data set.\n",
    "df['Date'].min()"
   ]
  },
  {
   "cell_type": "code",
   "execution_count": 35,
   "metadata": {},
   "outputs": [
    {
     "data": {
      "text/plain": [
       "Date\n",
       "2021-06-15    85\n",
       "Name: AnimalID, dtype: int64"
      ]
     },
     "execution_count": 35,
     "metadata": {},
     "output_type": "execute_result"
    }
   ],
   "source": [
    "# Here is the day of the pandemic with the most animal intakes. \n",
    "pandemic = df[(df['Date'] >= '3/15/2020')]\n",
    "pandemic_dt = pandemic.set_index('Date')\n",
    "pandemic_dt.groupby(pd.Grouper(freq='D'))['AnimalID'].count().sort_values(ascending=False)[:1]"
   ]
  },
  {
   "cell_type": "code",
   "execution_count": 36,
   "metadata": {},
   "outputs": [
    {
     "data": {
      "text/plain": [
       "Date\n",
       "2014-07-09    140\n",
       "Name: AnimalID, dtype: int64"
      ]
     },
     "execution_count": 36,
     "metadata": {},
     "output_type": "execute_result"
    }
   ],
   "source": [
    "# Here is the pre-pandemic day with the most animal intakes. \n",
    "prepandemic = df[df['Date'] < '3/15/2020']\n",
    "prepandemic_dt = prepandemic.set_index('Date')\n",
    "prepandemic_dt.groupby(pd.Grouper(freq='D'))['AnimalID'].count().sort_values(ascending=False)[:1]"
   ]
  },
  {
   "cell_type": "code",
   "execution_count": 37,
   "metadata": {},
   "outputs": [
    {
     "data": {
      "text/plain": [
       "Text(0.5, 0, 'Intake Date')"
      ]
     },
     "execution_count": 37,
     "metadata": {},
     "output_type": "execute_result"
    },
    {
     "data": {
      "image/png": "[encoded data removed]",
      "text/plain": [
       "<Figure size 576x432 with 1 Axes>"
      ]
     },
     "metadata": {
      "needs_background": "light"
     },
     "output_type": "display_data"
    }
   ],
   "source": [
    "prepandemic_graph = prepandemic_dt.groupby(pd.Grouper(freq='M'))['AnimalID'].count()\n",
    "prepandemic_graph.plot(color='DarkGreen', figsize=(8,6), fontsize=12)\n",
    "\n",
    "plt.title('Prepandemic Monthly Animal Intakes', size=14)\n",
    "\n",
    "plt.ylabel('Total Animal Intakes', fontsize=12)\n",
    "plt.xlabel('Intake Date', fontsize=12)\n"
   ]
  },
  {
   "cell_type": "code",
   "execution_count": 38,
   "metadata": {},
   "outputs": [
    {
     "data": {
      "text/plain": [
       "Text(0.5, 0, 'Intake Date')"
      ]
     },
     "execution_count": 38,
     "metadata": {},
     "output_type": "execute_result"
    },
    {
     "data": {
      "image/png": "[encoded data removed]",
      "text/plain": [
       "<Figure size 576x432 with 1 Axes>"
      ]
     },
     "metadata": {
      "needs_background": "light"
     },
     "output_type": "display_data"
    }
   ],
   "source": [
    "pandemic_graph = pandemic_dt.groupby(pd.Grouper(freq='M'))['AnimalID'].count()\n",
    "pandemic_graph.plot(color='DarkGreen', figsize=(8,6), fontsize=12)\n",
    "\n",
    "plt.title('Pandemic Monthly Animal Intakes', size=14)\n",
    "\n",
    "plt.ylabel('Total Animal Intakes', fontsize=12)\n",
    "plt.xlabel('Intake Date', fontsize=12)\n"
   ]
  },
  {
   "cell_type": "code",
   "execution_count": 39,
   "metadata": {},
   "outputs": [
    {
     "data": {
      "text/plain": [
       "Date\n",
       "2019-05-04    98\n",
       "2014-05-12    94\n",
       "2016-05-12    93\n",
       "2016-04-30    87\n",
       "2015-05-27    87\n",
       "Name: AnimalID, dtype: int64"
      ]
     },
     "execution_count": 39,
     "metadata": {},
     "output_type": "execute_result"
    }
   ],
   "source": [
    "# Here are the prepandemic days with the most stray animal intakes. \n",
    "prepandemic_dt.query('Intake == \"Stray\"').groupby(pd.Grouper(freq='D'))['AnimalID'].count().sort_values(ascending=False)[:5]"
   ]
  },
  {
   "cell_type": "code",
   "execution_count": 40,
   "metadata": {},
   "outputs": [
    {
     "data": {
      "text/plain": [
       "Date\n",
       "2021-06-01    56\n",
       "2021-07-02    55\n",
       "2021-08-02    55\n",
       "2021-06-11    54\n",
       "2021-09-21    51\n",
       "Name: AnimalID, dtype: int64"
      ]
     },
     "execution_count": 40,
     "metadata": {},
     "output_type": "execute_result"
    }
   ],
   "source": [
    "# Here are the pandemic days with the most stray animal intakes. \n",
    "pandemic_dt.query('Intake == \"Stray\"').groupby(pd.Grouper(freq='D'))['AnimalID'].count().sort_values(ascending=False)[:5]"
   ]
  },
  {
   "cell_type": "code",
   "execution_count": 41,
   "metadata": {},
   "outputs": [
    {
     "data": {
      "text/plain": [
       "Date\n",
       "2016-09-23    73\n",
       "2017-06-04    37\n",
       "2015-10-29    36\n",
       "2015-04-02    35\n",
       "2019-05-20    33\n",
       "Name: AnimalID, dtype: int64"
      ]
     },
     "execution_count": 41,
     "metadata": {},
     "output_type": "execute_result"
    }
   ],
   "source": [
    "# Here are the prepandemic days with the most owner surrender animal intakes. \n",
    "prepandemic_dt.query('Intake == \"Owner Surrender\"').groupby(pd.Grouper(freq='D'))['AnimalID'].count().sort_values(ascending=False)[:5]"
   ]
  },
  {
   "cell_type": "code",
   "execution_count": 42,
   "metadata": {},
   "outputs": [
    {
     "data": {
      "text/plain": [
       "Date\n",
       "2021-08-26    39\n",
       "2021-08-11    36\n",
       "2021-11-02    32\n",
       "2021-09-29    31\n",
       "2021-12-02    31\n",
       "Name: AnimalID, dtype: int64"
      ]
     },
     "execution_count": 42,
     "metadata": {},
     "output_type": "execute_result"
    }
   ],
   "source": [
    "# Here are the pandemic days with the most owner surrender animal intakes. \n",
    "pandemic_dt.query('Intake == \"Owner Surrender\"').groupby(pd.Grouper(freq='D'))['AnimalID'].count().sort_values(ascending=False)[:5]"
   ]
  },
  {
   "cell_type": "markdown",
   "metadata": {},
   "source": [
    "# Most Common Combinations\n",
    "\n",
    "\n",
    "<div class=\"alert alert-block alert-success\">\n",
    "<span style=\"color:black\"> \n",
    "    \n",
    "## Intake Type and Intake Condition\n",
    "    \n",
    "- The most common intake type and intake condition among Austin Animal Center animals during the ongoing COVID-19 pandemic was <b> Stray intakes in Normal condition </b>. A total of 8,020 Stray intakes of normal condition were taken in over the course of the pandemic, representing 44% of pandemic animal intakes. \n",
    "- Prior to the pandemic, <b> Stray intakes in Normal condition </b> were also the most common intake type and intake condition. A total of 71,901 Stray intakes of normal condition were taken in over the course of the entire dataset, representing 62% of intakes. \n",
    "\n",
    "## Animal Breed by Animal Type \n",
    "        \n",
    "- The most common breed of animal among the Austin Animal Center animals during the ongoing COVID-19 pandemic was <b> Domestic Shorthair Cats </b>. A total of 5,070 Domestic Shorthair Cats were taken in over the course of the pandemic, representing 28% of pandemic animal intakes. \n",
    "- Over the course of the entire dataset, <b> Domestic Shorthair Cats </b> were also the most common intake type and intake condition. A total of 31,944 Domestic Shorthair Cats were taken in over the course of the entire dataset, representing 24% of intakes. \n",
    "    \n",
    "</span>\n",
    "</div>\n",
    "   "
   ]
  },
  {
   "cell_type": "code",
   "execution_count": 43,
   "metadata": {},
   "outputs": [
    {
     "data": {
      "text/html": [
       "<div>\n",
       "<style scoped>\n",
       "    .dataframe tbody tr th:only-of-type {\n",
       "        vertical-align: middle;\n",
       "    }\n",
       "\n",
       "    .dataframe tbody tr th {\n",
       "        vertical-align: top;\n",
       "    }\n",
       "\n",
       "    .dataframe thead th {\n",
       "        text-align: right;\n",
       "    }\n",
       "</style>\n",
       "<table border=\"1\" class=\"dataframe\">\n",
       "  <thead>\n",
       "    <tr style=\"text-align: right;\">\n",
       "      <th></th>\n",
       "      <th></th>\n",
       "      <th>AnimalID</th>\n",
       "    </tr>\n",
       "    <tr>\n",
       "      <th>Intake</th>\n",
       "      <th>Condition</th>\n",
       "      <th></th>\n",
       "    </tr>\n",
       "  </thead>\n",
       "  <tbody>\n",
       "    <tr>\n",
       "      <th>All</th>\n",
       "      <th></th>\n",
       "      <td>18391</td>\n",
       "    </tr>\n",
       "    <tr>\n",
       "      <th>Stray</th>\n",
       "      <th>Normal</th>\n",
       "      <td>8020</td>\n",
       "    </tr>\n",
       "    <tr>\n",
       "      <th>Owner Surrender</th>\n",
       "      <th>Normal</th>\n",
       "      <td>4245</td>\n",
       "    </tr>\n",
       "    <tr>\n",
       "      <th>Stray</th>\n",
       "      <th>Injured</th>\n",
       "      <td>1417</td>\n",
       "    </tr>\n",
       "    <tr>\n",
       "      <th>Public Assist</th>\n",
       "      <th>Normal</th>\n",
       "      <td>884</td>\n",
       "    </tr>\n",
       "    <tr>\n",
       "      <th rowspan=\"2\" valign=\"top\">Stray</th>\n",
       "      <th>Sick</th>\n",
       "      <td>863</td>\n",
       "    </tr>\n",
       "    <tr>\n",
       "      <th>Nursing</th>\n",
       "      <td>590</td>\n",
       "    </tr>\n",
       "    <tr>\n",
       "      <th>Abandoned</th>\n",
       "      <th>Normal</th>\n",
       "      <td>441</td>\n",
       "    </tr>\n",
       "    <tr>\n",
       "      <th rowspan=\"2\" valign=\"top\">Wildlife</th>\n",
       "      <th>Normal</th>\n",
       "      <td>367</td>\n",
       "    </tr>\n",
       "    <tr>\n",
       "      <th>Sick</th>\n",
       "      <td>236</td>\n",
       "    </tr>\n",
       "    <tr>\n",
       "      <th>Owner Surrender</th>\n",
       "      <th>Sick</th>\n",
       "      <td>228</td>\n",
       "    </tr>\n",
       "  </tbody>\n",
       "</table>\n",
       "</div>"
      ],
      "text/plain": [
       "                           AnimalID\n",
       "Intake          Condition          \n",
       "All                           18391\n",
       "Stray           Normal         8020\n",
       "Owner Surrender Normal         4245\n",
       "Stray           Injured        1417\n",
       "Public Assist   Normal          884\n",
       "Stray           Sick            863\n",
       "                Nursing         590\n",
       "Abandoned       Normal          441\n",
       "Wildlife        Normal          367\n",
       "                Sick            236\n",
       "Owner Surrender Sick            228"
      ]
     },
     "execution_count": 43,
     "metadata": {},
     "output_type": "execute_result"
    }
   ],
   "source": [
    "# Here are the top ten combinations of intake type and condition during the pandemic.\n",
    "\n",
    "pd.pivot_table(pandemic, index=['Intake', 'Condition'], values='AnimalID', aggfunc='count', margins=True).sort_values('AnimalID', ascending=False)[:11]"
   ]
  },
  {
   "cell_type": "code",
   "execution_count": 44,
   "metadata": {
    "scrolled": true
   },
   "outputs": [
    {
     "data": {
      "text/plain": [
       "44"
      ]
     },
     "execution_count": 44,
     "metadata": {},
     "output_type": "execute_result"
    }
   ],
   "source": [
    "math.ceil((8020/18391) * 100)"
   ]
  },
  {
   "cell_type": "code",
   "execution_count": 45,
   "metadata": {},
   "outputs": [
    {
     "data": {
      "text/html": [
       "<div>\n",
       "<style scoped>\n",
       "    .dataframe tbody tr th:only-of-type {\n",
       "        vertical-align: middle;\n",
       "    }\n",
       "\n",
       "    .dataframe tbody tr th {\n",
       "        vertical-align: top;\n",
       "    }\n",
       "\n",
       "    .dataframe thead th {\n",
       "        text-align: right;\n",
       "    }\n",
       "</style>\n",
       "<table border=\"1\" class=\"dataframe\">\n",
       "  <thead>\n",
       "    <tr style=\"text-align: right;\">\n",
       "      <th></th>\n",
       "      <th></th>\n",
       "      <th>AnimalID</th>\n",
       "    </tr>\n",
       "    <tr>\n",
       "      <th>Intake</th>\n",
       "      <th>Condition</th>\n",
       "      <th></th>\n",
       "    </tr>\n",
       "  </thead>\n",
       "  <tbody>\n",
       "    <tr>\n",
       "      <th>All</th>\n",
       "      <th></th>\n",
       "      <td>116473</td>\n",
       "    </tr>\n",
       "    <tr>\n",
       "      <th>Stray</th>\n",
       "      <th>Normal</th>\n",
       "      <td>71901</td>\n",
       "    </tr>\n",
       "    <tr>\n",
       "      <th>Owner Surrender</th>\n",
       "      <th>Normal</th>\n",
       "      <td>21297</td>\n",
       "    </tr>\n",
       "    <tr>\n",
       "      <th>Public Assist</th>\n",
       "      <th>Normal</th>\n",
       "      <td>6591</td>\n",
       "    </tr>\n",
       "    <tr>\n",
       "      <th rowspan=\"2\" valign=\"top\">Stray</th>\n",
       "      <th>Injured</th>\n",
       "      <td>4415</td>\n",
       "    </tr>\n",
       "    <tr>\n",
       "      <th>Nursing</th>\n",
       "      <td>2743</td>\n",
       "    </tr>\n",
       "    <tr>\n",
       "      <th>Wildlife</th>\n",
       "      <th>Normal</th>\n",
       "      <td>2438</td>\n",
       "    </tr>\n",
       "    <tr>\n",
       "      <th>Stray</th>\n",
       "      <th>Sick</th>\n",
       "      <td>2213</td>\n",
       "    </tr>\n",
       "    <tr>\n",
       "      <th rowspan=\"2\" valign=\"top\">Wildlife</th>\n",
       "      <th>Sick</th>\n",
       "      <td>1185</td>\n",
       "    </tr>\n",
       "    <tr>\n",
       "      <th>Injured</th>\n",
       "      <td>768</td>\n",
       "    </tr>\n",
       "    <tr>\n",
       "      <th>Owner Surrender</th>\n",
       "      <th>Sick</th>\n",
       "      <td>725</td>\n",
       "    </tr>\n",
       "  </tbody>\n",
       "</table>\n",
       "</div>"
      ],
      "text/plain": [
       "                           AnimalID\n",
       "Intake          Condition          \n",
       "All                          116473\n",
       "Stray           Normal        71901\n",
       "Owner Surrender Normal        21297\n",
       "Public Assist   Normal         6591\n",
       "Stray           Injured        4415\n",
       "                Nursing        2743\n",
       "Wildlife        Normal         2438\n",
       "Stray           Sick           2213\n",
       "Wildlife        Sick           1185\n",
       "                Injured         768\n",
       "Owner Surrender Sick            725"
      ]
     },
     "execution_count": 45,
     "metadata": {},
     "output_type": "execute_result"
    }
   ],
   "source": [
    "# Here are the top ten combinations of intake type and condition prior to the pandemic.\n",
    "\n",
    "pd.pivot_table(prepandemic, index=['Intake', 'Condition'], values='AnimalID', aggfunc='count', margins=True).sort_values('AnimalID', ascending=False)[:11]"
   ]
  },
  {
   "cell_type": "code",
   "execution_count": 46,
   "metadata": {},
   "outputs": [
    {
     "data": {
      "text/plain": [
       "62"
      ]
     },
     "execution_count": 46,
     "metadata": {},
     "output_type": "execute_result"
    }
   ],
   "source": [
    "math.ceil((71901/116473) * 100)"
   ]
  },
  {
   "cell_type": "code",
   "execution_count": 47,
   "metadata": {},
   "outputs": [
    {
     "data": {
      "text/html": [
       "<div>\n",
       "<style scoped>\n",
       "    .dataframe tbody tr th:only-of-type {\n",
       "        vertical-align: middle;\n",
       "    }\n",
       "\n",
       "    .dataframe tbody tr th {\n",
       "        vertical-align: top;\n",
       "    }\n",
       "\n",
       "    .dataframe thead th {\n",
       "        text-align: right;\n",
       "    }\n",
       "</style>\n",
       "<table border=\"1\" class=\"dataframe\">\n",
       "  <thead>\n",
       "    <tr style=\"text-align: right;\">\n",
       "      <th></th>\n",
       "      <th></th>\n",
       "      <th>AnimalID</th>\n",
       "    </tr>\n",
       "    <tr>\n",
       "      <th>Animal</th>\n",
       "      <th>Breed</th>\n",
       "      <th></th>\n",
       "    </tr>\n",
       "  </thead>\n",
       "  <tbody>\n",
       "    <tr>\n",
       "      <th>All</th>\n",
       "      <th></th>\n",
       "      <td>18391</td>\n",
       "    </tr>\n",
       "    <tr>\n",
       "      <th rowspan=\"2\" valign=\"top\">Cat</th>\n",
       "      <th>Domestic Shorthair</th>\n",
       "      <td>5070</td>\n",
       "    </tr>\n",
       "    <tr>\n",
       "      <th>Domestic Shorthair Mix</th>\n",
       "      <td>1558</td>\n",
       "    </tr>\n",
       "    <tr>\n",
       "      <th rowspan=\"4\" valign=\"top\">Dog</th>\n",
       "      <th>Pit Bull</th>\n",
       "      <td>850</td>\n",
       "    </tr>\n",
       "    <tr>\n",
       "      <th>Labrador Retriever Mix</th>\n",
       "      <td>696</td>\n",
       "    </tr>\n",
       "    <tr>\n",
       "      <th>Pit Bull Mix</th>\n",
       "      <td>613</td>\n",
       "    </tr>\n",
       "    <tr>\n",
       "      <th>Chihuahua Shorthair</th>\n",
       "      <td>467</td>\n",
       "    </tr>\n",
       "    <tr>\n",
       "      <th>Other</th>\n",
       "      <th>Bat</th>\n",
       "      <td>455</td>\n",
       "    </tr>\n",
       "    <tr>\n",
       "      <th>Cat</th>\n",
       "      <th>Domestic Medium Hair</th>\n",
       "      <td>434</td>\n",
       "    </tr>\n",
       "    <tr>\n",
       "      <th rowspan=\"2\" valign=\"top\">Dog</th>\n",
       "      <th>Labrador Retriever</th>\n",
       "      <td>385</td>\n",
       "    </tr>\n",
       "    <tr>\n",
       "      <th>German Shepherd</th>\n",
       "      <td>369</td>\n",
       "    </tr>\n",
       "  </tbody>\n",
       "</table>\n",
       "</div>"
      ],
      "text/plain": [
       "                               AnimalID\n",
       "Animal Breed                           \n",
       "All                               18391\n",
       "Cat    Domestic Shorthair          5070\n",
       "       Domestic Shorthair Mix      1558\n",
       "Dog    Pit Bull                     850\n",
       "       Labrador Retriever Mix       696\n",
       "       Pit Bull Mix                 613\n",
       "       Chihuahua Shorthair          467\n",
       "Other  Bat                          455\n",
       "Cat    Domestic Medium Hair         434\n",
       "Dog    Labrador Retriever           385\n",
       "       German Shepherd              369"
      ]
     },
     "execution_count": 47,
     "metadata": {},
     "output_type": "execute_result"
    }
   ],
   "source": [
    "# Here are the counts of animal intakes by breed during the pandemic.\n",
    "\n",
    "pd.pivot_table(pandemic, index=['Animal', 'Breed'], values='AnimalID', aggfunc='count', margins=True).sort_values('AnimalID', ascending=False)[:11]"
   ]
  },
  {
   "cell_type": "code",
   "execution_count": 49,
   "metadata": {},
   "outputs": [
    {
     "data": {
      "text/plain": [
       "28"
      ]
     },
     "execution_count": 49,
     "metadata": {},
     "output_type": "execute_result"
    }
   ],
   "source": [
    "math.ceil((5070/18397) * 100)"
   ]
  },
  {
   "cell_type": "code",
   "execution_count": 50,
   "metadata": {},
   "outputs": [
    {
     "data": {
      "text/html": [
       "<div>\n",
       "<style scoped>\n",
       "    .dataframe tbody tr th:only-of-type {\n",
       "        vertical-align: middle;\n",
       "    }\n",
       "\n",
       "    .dataframe tbody tr th {\n",
       "        vertical-align: top;\n",
       "    }\n",
       "\n",
       "    .dataframe thead th {\n",
       "        text-align: right;\n",
       "    }\n",
       "</style>\n",
       "<table border=\"1\" class=\"dataframe\">\n",
       "  <thead>\n",
       "    <tr style=\"text-align: right;\">\n",
       "      <th></th>\n",
       "      <th></th>\n",
       "      <th>AnimalID</th>\n",
       "    </tr>\n",
       "    <tr>\n",
       "      <th>Animal</th>\n",
       "      <th>Breed</th>\n",
       "      <th></th>\n",
       "    </tr>\n",
       "  </thead>\n",
       "  <tbody>\n",
       "    <tr>\n",
       "      <th>All</th>\n",
       "      <th></th>\n",
       "      <td>116473</td>\n",
       "    </tr>\n",
       "    <tr>\n",
       "      <th>Cat</th>\n",
       "      <th>Domestic Shorthair Mix</th>\n",
       "      <td>30379</td>\n",
       "    </tr>\n",
       "    <tr>\n",
       "      <th rowspan=\"3\" valign=\"top\">Dog</th>\n",
       "      <th>Pit Bull Mix</th>\n",
       "      <td>8204</td>\n",
       "    </tr>\n",
       "    <tr>\n",
       "      <th>Labrador Retriever Mix</th>\n",
       "      <td>6564</td>\n",
       "    </tr>\n",
       "    <tr>\n",
       "      <th>Chihuahua Shorthair Mix</th>\n",
       "      <td>6131</td>\n",
       "    </tr>\n",
       "    <tr>\n",
       "      <th rowspan=\"2\" valign=\"top\">Cat</th>\n",
       "      <th>Domestic Shorthair</th>\n",
       "      <td>5084</td>\n",
       "    </tr>\n",
       "    <tr>\n",
       "      <th>Domestic Medium Hair Mix</th>\n",
       "      <td>3058</td>\n",
       "    </tr>\n",
       "    <tr>\n",
       "      <th>Dog</th>\n",
       "      <th>German Shepherd Mix</th>\n",
       "      <td>2871</td>\n",
       "    </tr>\n",
       "    <tr>\n",
       "      <th>Other</th>\n",
       "      <th>Bat Mix</th>\n",
       "      <td>1754</td>\n",
       "    </tr>\n",
       "    <tr>\n",
       "      <th>Cat</th>\n",
       "      <th>Domestic Longhair Mix</th>\n",
       "      <td>1515</td>\n",
       "    </tr>\n",
       "    <tr>\n",
       "      <th>Dog</th>\n",
       "      <th>Australian Cattle Dog Mix</th>\n",
       "      <td>1446</td>\n",
       "    </tr>\n",
       "  </tbody>\n",
       "</table>\n",
       "</div>"
      ],
      "text/plain": [
       "                                  AnimalID\n",
       "Animal Breed                              \n",
       "All                                 116473\n",
       "Cat    Domestic Shorthair Mix        30379\n",
       "Dog    Pit Bull Mix                   8204\n",
       "       Labrador Retriever Mix         6564\n",
       "       Chihuahua Shorthair Mix        6131\n",
       "Cat    Domestic Shorthair             5084\n",
       "       Domestic Medium Hair Mix       3058\n",
       "Dog    German Shepherd Mix            2871\n",
       "Other  Bat Mix                        1754\n",
       "Cat    Domestic Longhair Mix          1515\n",
       "Dog    Australian Cattle Dog Mix      1446"
      ]
     },
     "execution_count": 50,
     "metadata": {},
     "output_type": "execute_result"
    }
   ],
   "source": [
    "# Here are the counts of animal intakes by breed prior to the pandemic.\n",
    "\n",
    "pd.pivot_table(prepandemic, index=['Animal', 'Breed'], values='AnimalID', aggfunc='count', margins=True).sort_values('AnimalID', ascending=False)[:11]"
   ]
  },
  {
   "cell_type": "code",
   "execution_count": 51,
   "metadata": {
    "scrolled": true
   },
   "outputs": [
    {
     "data": {
      "text/plain": [
       "27"
      ]
     },
     "execution_count": 51,
     "metadata": {},
     "output_type": "execute_result"
    }
   ],
   "source": [
    "math.ceil((30379/116473) * 100)"
   ]
  },
  {
   "cell_type": "markdown",
   "metadata": {},
   "source": [
    "# Data on Sick and Injured Animals\n",
    "<div class=\"alert alert-block alert-success\">\n",
    "<span style=\"color:black\"> \n",
    "    \n",
    "Sick and injured animals were primarily represented among cats, dogs, and raccoons.  \n",
    "- <b>Cats</b>: Domestic Shorthair Mix, 2,673 total; Domestic Shorthair, 1,644 total.    \n",
    "- <b>Dogs</b>: Pit Bull Mix, 719 total; Chihuahua Shorthair Mix, 552 total.  \n",
    "- <b>Raccoons</b>: Raccoon Mix, 486 total; Raccoon, 427 total.  \n",
    "    \n",
    "## Intake Type\n",
    "    \n",
    "- <b>Strays</b>: 8,908 total  \n",
    "- <b>Wildlife</b>: 2,347 total  \n",
    "- <b>Owner surrender</b>: 1,504 total  \n",
    "\n",
    "## Location\n",
    "    \n",
    "- A few of the most common locations where stray and injured animals were found within Austin city limits were 4434 Frontier Trail, 12034 Research Blvd, and 7201 Levander Loop.  \n",
    "    \n",
    "</span>\n",
    "</div>"
   ]
  },
  {
   "cell_type": "code",
   "execution_count": 52,
   "metadata": {},
   "outputs": [
    {
     "data": {
      "text/html": [
       "<div>\n",
       "<style scoped>\n",
       "    .dataframe tbody tr th:only-of-type {\n",
       "        vertical-align: middle;\n",
       "    }\n",
       "\n",
       "    .dataframe tbody tr th {\n",
       "        vertical-align: top;\n",
       "    }\n",
       "\n",
       "    .dataframe thead th {\n",
       "        text-align: right;\n",
       "    }\n",
       "</style>\n",
       "<table border=\"1\" class=\"dataframe\">\n",
       "  <thead>\n",
       "    <tr style=\"text-align: right;\">\n",
       "      <th></th>\n",
       "      <th>AnimalID</th>\n",
       "      <th>Name</th>\n",
       "      <th>Date</th>\n",
       "      <th>Location</th>\n",
       "      <th>Intake</th>\n",
       "      <th>Condition</th>\n",
       "      <th>Animal</th>\n",
       "      <th>Sex</th>\n",
       "      <th>Age</th>\n",
       "      <th>Breed</th>\n",
       "      <th>Color</th>\n",
       "    </tr>\n",
       "  </thead>\n",
       "  <tbody>\n",
       "    <tr>\n",
       "      <th>3</th>\n",
       "      <td>A665644</td>\n",
       "      <td>NaN</td>\n",
       "      <td>2013-10-21 07:59:00</td>\n",
       "      <td>Austin (TX)</td>\n",
       "      <td>Stray</td>\n",
       "      <td>Sick</td>\n",
       "      <td>Cat</td>\n",
       "      <td>Intact Female</td>\n",
       "      <td>4 weeks</td>\n",
       "      <td>Domestic Shorthair Mix</td>\n",
       "      <td>Calico</td>\n",
       "    </tr>\n",
       "    <tr>\n",
       "      <th>10</th>\n",
       "      <td>A774147</td>\n",
       "      <td>NaN</td>\n",
       "      <td>2018-06-11 07:45:00</td>\n",
       "      <td>6600 Elm Creek in Austin (TX)</td>\n",
       "      <td>Stray</td>\n",
       "      <td>Injured</td>\n",
       "      <td>Cat</td>\n",
       "      <td>Intact Female</td>\n",
       "      <td>4 weeks</td>\n",
       "      <td>Domestic Shorthair Mix</td>\n",
       "      <td>Black/White</td>\n",
       "    </tr>\n",
       "    <tr>\n",
       "      <th>16</th>\n",
       "      <td>A743114</td>\n",
       "      <td>NaN</td>\n",
       "      <td>2017-02-04 10:10:00</td>\n",
       "      <td>208 Beaver St in Austin (TX)</td>\n",
       "      <td>Stray</td>\n",
       "      <td>Injured</td>\n",
       "      <td>Cat</td>\n",
       "      <td>Intact Female</td>\n",
       "      <td>2 years</td>\n",
       "      <td>Domestic Shorthair Mix</td>\n",
       "      <td>Black/White</td>\n",
       "    </tr>\n",
       "  </tbody>\n",
       "</table>\n",
       "</div>"
      ],
      "text/plain": [
       "   AnimalID Name                Date                       Location Intake  \\\n",
       "3   A665644  NaN 2013-10-21 07:59:00                    Austin (TX)  Stray   \n",
       "10  A774147  NaN 2018-06-11 07:45:00  6600 Elm Creek in Austin (TX)  Stray   \n",
       "16  A743114  NaN 2017-02-04 10:10:00   208 Beaver St in Austin (TX)  Stray   \n",
       "\n",
       "   Condition Animal            Sex      Age                   Breed  \\\n",
       "3       Sick    Cat  Intact Female  4 weeks  Domestic Shorthair Mix   \n",
       "10   Injured    Cat  Intact Female  4 weeks  Domestic Shorthair Mix   \n",
       "16   Injured    Cat  Intact Female  2 years  Domestic Shorthair Mix   \n",
       "\n",
       "          Color  \n",
       "3        Calico  \n",
       "10  Black/White  \n",
       "16  Black/White  "
      ]
     },
     "execution_count": 52,
     "metadata": {},
     "output_type": "execute_result"
    }
   ],
   "source": [
    "# Here a dataframe is made for only animals whose intake condition is sick or injured. \n",
    "\n",
    "sick_inj = df.query('Condition == \"Sick\" or Condition == \"Injured\"')\n",
    "sick_inj.head(3)"
   ]
  },
  {
   "cell_type": "code",
   "execution_count": 53,
   "metadata": {},
   "outputs": [
    {
     "data": {
      "text/plain": [
       "Animal  Breed                   \n",
       "Cat     Domestic Shorthair Mix      2673\n",
       "        Domestic Shorthair          1644\n",
       "Dog     Pit Bull Mix                 719\n",
       "        Chihuahua Shorthair Mix      552\n",
       "Other   Raccoon Mix                  486\n",
       "        Raccoon                      427\n",
       "Dog     Labrador Retriever Mix       401\n",
       "Cat     Domestic Medium Hair Mix     323\n",
       "Other   Bat Mix                      319\n",
       "        Bat                          271\n",
       "Name: AnimalID, dtype: int64"
      ]
     },
     "execution_count": 53,
     "metadata": {},
     "output_type": "execute_result"
    }
   ],
   "source": [
    "# Here are the top breeds of sick and injured animals. \n",
    "\n",
    "sick_inj.groupby(by=['Animal', 'Breed'])['AnimalID'].count().sort_values(ascending=False)[:10]"
   ]
  },
  {
   "cell_type": "code",
   "execution_count": 54,
   "metadata": {},
   "outputs": [
    {
     "data": {
      "text/plain": [
       "Intake\n",
       "Stray                 8908\n",
       "Wildlife              2347\n",
       "Owner Surrender       1504\n",
       "Public Assist          373\n",
       "Euthanasia Request     125\n",
       "Abandoned               34\n",
       "Name: AnimalID, dtype: int64"
      ]
     },
     "execution_count": 54,
     "metadata": {},
     "output_type": "execute_result"
    }
   ],
   "source": [
    "# Here are the top intake types of sick and injured animals. \n",
    "\n",
    "sick_inj.groupby(by='Intake')['AnimalID'].count().sort_values(ascending=False)[:10]"
   ]
  },
  {
   "cell_type": "code",
   "execution_count": 55,
   "metadata": {
    "scrolled": false
   },
   "outputs": [
    {
     "data": {
      "text/plain": [
       "Location\n",
       "Austin (TX)                           1284\n",
       "4434 Frontier Trail in Austin (TX)     191\n",
       "Outside Jurisdiction                    89\n",
       "Travis (TX)                             88\n",
       "4434 Frontier Trl in Austin (TX)        73\n",
       "12034 Research Blvd in Austin (TX)      58\n",
       "7201 Levander Loop in Austin (TX)       57\n",
       "7619 Scenic Brook in Austin (TX)        49\n",
       "12034 Research in Austin (TX)           46\n",
       "Manor (TX)                              45\n",
       "4434 Frontier in Austin (TX)            34\n",
       "Del Valle (TX)                          33\n",
       "Pflugerville (TX)                       18\n",
       "4106 N Lamar in Austin (TX)             18\n",
       "4106 N Lamar Blvd in Austin (TX)        16\n",
       "Name: AnimalID, dtype: int64"
      ]
     },
     "execution_count": 55,
     "metadata": {},
     "output_type": "execute_result"
    }
   ],
   "source": [
    "# Here are the top location where sick and injured animals were found. \n",
    "\n",
    "sick_inj.groupby(by='Location')['AnimalID'].count().sort_values(ascending=False)[:15]"
   ]
  },
  {
   "cell_type": "markdown",
   "metadata": {},
   "source": [
    "# Data on Age of Intake\n",
    "\n",
    "<div class=\"alert alert-block alert-success\">\n",
    "<span style=\"color:black\">\n",
    "\n",
    "The youngest animal intake was about 1 day old, while the oldest was about 10,950 days—or 30 years. The average age was about 744 days—or 2 years. Among intake types, euthanasia requests, public assists, and ownder surrenders had the highest average age. Among intake conditions, aged, med urgent, and \"other\" had the highest average age.  \n",
    "\n",
    "## Age by Animal Type\n",
    "-<b>Dog</b>: 3 years  \n",
    "-<b>Bird</b>: 2 years  \n",
    "-<b>Cat</b>: 2 years  \n",
    "-<b>Other</b>: 2 years  \n",
    "-<b>Livestock</b>: 1 year  \n",
    "    \n",
    "## Intake Type\n",
    "-<b>Euthanasia Request</b>: 8 years  \n",
    "-<b>Public Assist</b>: 4 years  \n",
    "-<b>Owner Surrender</b>: 3 years   \n",
    "-<b>Stray</b>: 2 years  \n",
    "-<b>Wildlife</b>: 2 years  \n",
    "    \n",
    "## Intake Condition\n",
    "-<b>Aged</b>: 12 years  \n",
    "-<b>Med Urgent</b>: 8 years  \n",
    "-<b>Other</b>: 4 years  \n",
    "-<b>Medical</b>: 3 years  \n",
    "-<b>Behavior</b>: 3 years     \n",
    "    \n",
    "</span>\n",
    "</div>"
   ]
  },
  {
   "cell_type": "code",
   "execution_count": 56,
   "metadata": {
    "scrolled": true
   },
   "outputs": [
    {
     "data": {
      "text/html": [
       "<div>\n",
       "<style scoped>\n",
       "    .dataframe tbody tr th:only-of-type {\n",
       "        vertical-align: middle;\n",
       "    }\n",
       "\n",
       "    .dataframe tbody tr th {\n",
       "        vertical-align: top;\n",
       "    }\n",
       "\n",
       "    .dataframe thead th {\n",
       "        text-align: right;\n",
       "    }\n",
       "</style>\n",
       "<table border=\"1\" class=\"dataframe\">\n",
       "  <thead>\n",
       "    <tr style=\"text-align: right;\">\n",
       "      <th></th>\n",
       "      <th>AnimalID</th>\n",
       "      <th>Name</th>\n",
       "      <th>Date</th>\n",
       "      <th>Location</th>\n",
       "      <th>Intake</th>\n",
       "      <th>Condition</th>\n",
       "      <th>Animal</th>\n",
       "      <th>Sex</th>\n",
       "      <th>Age</th>\n",
       "      <th>Breed</th>\n",
       "      <th>Color</th>\n",
       "    </tr>\n",
       "  </thead>\n",
       "  <tbody>\n",
       "    <tr>\n",
       "      <th>0</th>\n",
       "      <td>A786884</td>\n",
       "      <td>*Brock</td>\n",
       "      <td>2019-01-03 16:19:00</td>\n",
       "      <td>2501 Magin Meadow Dr in Austin (TX)</td>\n",
       "      <td>Stray</td>\n",
       "      <td>Normal</td>\n",
       "      <td>Dog</td>\n",
       "      <td>Neutered Male</td>\n",
       "      <td>2 years</td>\n",
       "      <td>Beagle Mix</td>\n",
       "      <td>Tricolor</td>\n",
       "    </tr>\n",
       "    <tr>\n",
       "      <th>1</th>\n",
       "      <td>A706918</td>\n",
       "      <td>Belle</td>\n",
       "      <td>2015-07-05 12:59:00</td>\n",
       "      <td>9409 Bluegrass Dr in Austin (TX)</td>\n",
       "      <td>Stray</td>\n",
       "      <td>Normal</td>\n",
       "      <td>Dog</td>\n",
       "      <td>Spayed Female</td>\n",
       "      <td>8 years</td>\n",
       "      <td>English Springer Spaniel</td>\n",
       "      <td>White/Liver</td>\n",
       "    </tr>\n",
       "    <tr>\n",
       "      <th>2</th>\n",
       "      <td>A724273</td>\n",
       "      <td>Runster</td>\n",
       "      <td>2016-04-14 18:43:00</td>\n",
       "      <td>2818 Palomino Trail in Austin (TX)</td>\n",
       "      <td>Stray</td>\n",
       "      <td>Normal</td>\n",
       "      <td>Dog</td>\n",
       "      <td>Intact Male</td>\n",
       "      <td>11 months</td>\n",
       "      <td>Basenji Mix</td>\n",
       "      <td>Sable/White</td>\n",
       "    </tr>\n",
       "    <tr>\n",
       "      <th>3</th>\n",
       "      <td>A665644</td>\n",
       "      <td>NaN</td>\n",
       "      <td>2013-10-21 07:59:00</td>\n",
       "      <td>Austin (TX)</td>\n",
       "      <td>Stray</td>\n",
       "      <td>Sick</td>\n",
       "      <td>Cat</td>\n",
       "      <td>Intact Female</td>\n",
       "      <td>4 weeks</td>\n",
       "      <td>Domestic Shorthair Mix</td>\n",
       "      <td>Calico</td>\n",
       "    </tr>\n",
       "    <tr>\n",
       "      <th>4</th>\n",
       "      <td>A682524</td>\n",
       "      <td>Rio</td>\n",
       "      <td>2014-06-29 10:38:00</td>\n",
       "      <td>800 Grove Blvd in Austin (TX)</td>\n",
       "      <td>Stray</td>\n",
       "      <td>Normal</td>\n",
       "      <td>Dog</td>\n",
       "      <td>Neutered Male</td>\n",
       "      <td>4 years</td>\n",
       "      <td>Doberman Pinsch/Australian Cattle Dog</td>\n",
       "      <td>Tan/Gray</td>\n",
       "    </tr>\n",
       "  </tbody>\n",
       "</table>\n",
       "</div>"
      ],
      "text/plain": [
       "  AnimalID     Name                Date                             Location  \\\n",
       "0  A786884   *Brock 2019-01-03 16:19:00  2501 Magin Meadow Dr in Austin (TX)   \n",
       "1  A706918    Belle 2015-07-05 12:59:00     9409 Bluegrass Dr in Austin (TX)   \n",
       "2  A724273  Runster 2016-04-14 18:43:00   2818 Palomino Trail in Austin (TX)   \n",
       "3  A665644      NaN 2013-10-21 07:59:00                          Austin (TX)   \n",
       "4  A682524      Rio 2014-06-29 10:38:00        800 Grove Blvd in Austin (TX)   \n",
       "\n",
       "  Intake Condition Animal            Sex        Age  \\\n",
       "0  Stray    Normal    Dog  Neutered Male    2 years   \n",
       "1  Stray    Normal    Dog  Spayed Female    8 years   \n",
       "2  Stray    Normal    Dog    Intact Male  11 months   \n",
       "3  Stray      Sick    Cat  Intact Female    4 weeks   \n",
       "4  Stray    Normal    Dog  Neutered Male    4 years   \n",
       "\n",
       "                                   Breed        Color  \n",
       "0                             Beagle Mix     Tricolor  \n",
       "1               English Springer Spaniel  White/Liver  \n",
       "2                            Basenji Mix  Sable/White  \n",
       "3                 Domestic Shorthair Mix       Calico  \n",
       "4  Doberman Pinsch/Australian Cattle Dog     Tan/Gray  "
      ]
     },
     "execution_count": 56,
     "metadata": {},
     "output_type": "execute_result"
    }
   ],
   "source": [
    "# For the ages with 0 (ex. 0 years, 0 months, 0 weeks), we will replace the number '0' \n",
    "# with the number '1' to help estimate the age and perform larger calculations on age. \n",
    "\n",
    "df['Age'] = [re.sub(\"^0\", \"1\", x) for x in df['Age']]\n",
    "df.head()"
   ]
  },
  {
   "cell_type": "code",
   "execution_count": 57,
   "metadata": {},
   "outputs": [],
   "source": [
    "def age_days(pdf, column):\n",
    "    \n",
    "    \"\"\" This function converts age in the format ## days, ## weeks,\n",
    "    ## months, and ## years to age in number of days. Each age is converted to\n",
    "    an integer that represents number of days. \"\"\"\n",
    "    \n",
    "    a_days = []\n",
    "    for age in pdf[column]:\n",
    "        num, time = age.split(' ', 1)\n",
    "    \n",
    "        if operator.contains(time, \"day\"):\n",
    "            a_days.append(int(num) * 1)\n",
    "        elif operator.contains(time, \"week\"):\n",
    "            a_days.append(int(num) * 7)\n",
    "        elif operator.contains(time, \"month\"):\n",
    "            a_days.append(int(num) * 30)\n",
    "        elif operator.contains(time, \"year\"):\n",
    "            a_days.append(int(num) * 365)\n",
    "        else:\n",
    "            continue\n",
    "            \n",
    "    return a_days"
   ]
  },
  {
   "cell_type": "code",
   "execution_count": 58,
   "metadata": {},
   "outputs": [
    {
     "data": {
      "text/html": [
       "<div>\n",
       "<style scoped>\n",
       "    .dataframe tbody tr th:only-of-type {\n",
       "        vertical-align: middle;\n",
       "    }\n",
       "\n",
       "    .dataframe tbody tr th {\n",
       "        vertical-align: top;\n",
       "    }\n",
       "\n",
       "    .dataframe thead th {\n",
       "        text-align: right;\n",
       "    }\n",
       "</style>\n",
       "<table border=\"1\" class=\"dataframe\">\n",
       "  <thead>\n",
       "    <tr style=\"text-align: right;\">\n",
       "      <th></th>\n",
       "      <th>AnimalID</th>\n",
       "      <th>Name</th>\n",
       "      <th>Date</th>\n",
       "      <th>Location</th>\n",
       "      <th>Intake</th>\n",
       "      <th>Condition</th>\n",
       "      <th>Animal</th>\n",
       "      <th>Sex</th>\n",
       "      <th>Age</th>\n",
       "      <th>Breed</th>\n",
       "      <th>Color</th>\n",
       "      <th>AgeDays</th>\n",
       "    </tr>\n",
       "  </thead>\n",
       "  <tbody>\n",
       "    <tr>\n",
       "      <th>0</th>\n",
       "      <td>A786884</td>\n",
       "      <td>*Brock</td>\n",
       "      <td>2019-01-03 16:19:00</td>\n",
       "      <td>2501 Magin Meadow Dr in Austin (TX)</td>\n",
       "      <td>Stray</td>\n",
       "      <td>Normal</td>\n",
       "      <td>Dog</td>\n",
       "      <td>Neutered Male</td>\n",
       "      <td>2 years</td>\n",
       "      <td>Beagle Mix</td>\n",
       "      <td>Tricolor</td>\n",
       "      <td>730</td>\n",
       "    </tr>\n",
       "    <tr>\n",
       "      <th>1</th>\n",
       "      <td>A706918</td>\n",
       "      <td>Belle</td>\n",
       "      <td>2015-07-05 12:59:00</td>\n",
       "      <td>9409 Bluegrass Dr in Austin (TX)</td>\n",
       "      <td>Stray</td>\n",
       "      <td>Normal</td>\n",
       "      <td>Dog</td>\n",
       "      <td>Spayed Female</td>\n",
       "      <td>8 years</td>\n",
       "      <td>English Springer Spaniel</td>\n",
       "      <td>White/Liver</td>\n",
       "      <td>2920</td>\n",
       "    </tr>\n",
       "    <tr>\n",
       "      <th>2</th>\n",
       "      <td>A724273</td>\n",
       "      <td>Runster</td>\n",
       "      <td>2016-04-14 18:43:00</td>\n",
       "      <td>2818 Palomino Trail in Austin (TX)</td>\n",
       "      <td>Stray</td>\n",
       "      <td>Normal</td>\n",
       "      <td>Dog</td>\n",
       "      <td>Intact Male</td>\n",
       "      <td>11 months</td>\n",
       "      <td>Basenji Mix</td>\n",
       "      <td>Sable/White</td>\n",
       "      <td>330</td>\n",
       "    </tr>\n",
       "  </tbody>\n",
       "</table>\n",
       "</div>"
      ],
      "text/plain": [
       "  AnimalID     Name                Date                             Location  \\\n",
       "0  A786884   *Brock 2019-01-03 16:19:00  2501 Magin Meadow Dr in Austin (TX)   \n",
       "1  A706918    Belle 2015-07-05 12:59:00     9409 Bluegrass Dr in Austin (TX)   \n",
       "2  A724273  Runster 2016-04-14 18:43:00   2818 Palomino Trail in Austin (TX)   \n",
       "\n",
       "  Intake Condition Animal            Sex        Age                     Breed  \\\n",
       "0  Stray    Normal    Dog  Neutered Male    2 years                Beagle Mix   \n",
       "1  Stray    Normal    Dog  Spayed Female    8 years  English Springer Spaniel   \n",
       "2  Stray    Normal    Dog    Intact Male  11 months               Basenji Mix   \n",
       "\n",
       "         Color  AgeDays  \n",
       "0     Tricolor      730  \n",
       "1  White/Liver     2920  \n",
       "2  Sable/White      330  "
      ]
     },
     "execution_count": 58,
     "metadata": {},
     "output_type": "execute_result"
    }
   ],
   "source": [
    "# Here the age in the original format of the data is converted to age in days. \n",
    "\n",
    "df['AgeDays'] = age_days(df, 'Age')\n",
    "df.head(3)"
   ]
  },
  {
   "cell_type": "code",
   "execution_count": 59,
   "metadata": {
    "scrolled": true
   },
   "outputs": [
    {
     "data": {
      "text/html": [
       "<div>\n",
       "<style scoped>\n",
       "    .dataframe tbody tr th:only-of-type {\n",
       "        vertical-align: middle;\n",
       "    }\n",
       "\n",
       "    .dataframe tbody tr th {\n",
       "        vertical-align: top;\n",
       "    }\n",
       "\n",
       "    .dataframe thead th {\n",
       "        text-align: right;\n",
       "    }\n",
       "</style>\n",
       "<table border=\"1\" class=\"dataframe\">\n",
       "  <thead>\n",
       "    <tr style=\"text-align: right;\">\n",
       "      <th></th>\n",
       "      <th>AnimalID</th>\n",
       "      <th>Name</th>\n",
       "      <th>Date</th>\n",
       "      <th>Location</th>\n",
       "      <th>Intake</th>\n",
       "      <th>Condition</th>\n",
       "      <th>Animal</th>\n",
       "      <th>Sex</th>\n",
       "      <th>Age</th>\n",
       "      <th>Breed</th>\n",
       "      <th>Color</th>\n",
       "      <th>AgeDays</th>\n",
       "    </tr>\n",
       "  </thead>\n",
       "  <tbody>\n",
       "    <tr>\n",
       "      <th>0</th>\n",
       "      <td>A786884</td>\n",
       "      <td>*Brock</td>\n",
       "      <td>2019-01-03 16:19:00</td>\n",
       "      <td>2501 Magin Meadow Dr in Austin (TX)</td>\n",
       "      <td>Stray</td>\n",
       "      <td>Normal</td>\n",
       "      <td>Dog</td>\n",
       "      <td>Neutered Male</td>\n",
       "      <td>2 years</td>\n",
       "      <td>Beagle Mix</td>\n",
       "      <td>Tricolor</td>\n",
       "      <td>730.0</td>\n",
       "    </tr>\n",
       "    <tr>\n",
       "      <th>1</th>\n",
       "      <td>A706918</td>\n",
       "      <td>Belle</td>\n",
       "      <td>2015-07-05 12:59:00</td>\n",
       "      <td>9409 Bluegrass Dr in Austin (TX)</td>\n",
       "      <td>Stray</td>\n",
       "      <td>Normal</td>\n",
       "      <td>Dog</td>\n",
       "      <td>Spayed Female</td>\n",
       "      <td>8 years</td>\n",
       "      <td>English Springer Spaniel</td>\n",
       "      <td>White/Liver</td>\n",
       "      <td>2920.0</td>\n",
       "    </tr>\n",
       "    <tr>\n",
       "      <th>2</th>\n",
       "      <td>A724273</td>\n",
       "      <td>Runster</td>\n",
       "      <td>2016-04-14 18:43:00</td>\n",
       "      <td>2818 Palomino Trail in Austin (TX)</td>\n",
       "      <td>Stray</td>\n",
       "      <td>Normal</td>\n",
       "      <td>Dog</td>\n",
       "      <td>Intact Male</td>\n",
       "      <td>11 months</td>\n",
       "      <td>Basenji Mix</td>\n",
       "      <td>Sable/White</td>\n",
       "      <td>330.0</td>\n",
       "    </tr>\n",
       "    <tr>\n",
       "      <th>3</th>\n",
       "      <td>A665644</td>\n",
       "      <td>NaN</td>\n",
       "      <td>2013-10-21 07:59:00</td>\n",
       "      <td>Austin (TX)</td>\n",
       "      <td>Stray</td>\n",
       "      <td>Sick</td>\n",
       "      <td>Cat</td>\n",
       "      <td>Intact Female</td>\n",
       "      <td>4 weeks</td>\n",
       "      <td>Domestic Shorthair Mix</td>\n",
       "      <td>Calico</td>\n",
       "      <td>28.0</td>\n",
       "    </tr>\n",
       "    <tr>\n",
       "      <th>4</th>\n",
       "      <td>A682524</td>\n",
       "      <td>Rio</td>\n",
       "      <td>2014-06-29 10:38:00</td>\n",
       "      <td>800 Grove Blvd in Austin (TX)</td>\n",
       "      <td>Stray</td>\n",
       "      <td>Normal</td>\n",
       "      <td>Dog</td>\n",
       "      <td>Neutered Male</td>\n",
       "      <td>4 years</td>\n",
       "      <td>Doberman Pinsch/Australian Cattle Dog</td>\n",
       "      <td>Tan/Gray</td>\n",
       "      <td>1460.0</td>\n",
       "    </tr>\n",
       "  </tbody>\n",
       "</table>\n",
       "</div>"
      ],
      "text/plain": [
       "  AnimalID     Name                Date                             Location  \\\n",
       "0  A786884   *Brock 2019-01-03 16:19:00  2501 Magin Meadow Dr in Austin (TX)   \n",
       "1  A706918    Belle 2015-07-05 12:59:00     9409 Bluegrass Dr in Austin (TX)   \n",
       "2  A724273  Runster 2016-04-14 18:43:00   2818 Palomino Trail in Austin (TX)   \n",
       "3  A665644      NaN 2013-10-21 07:59:00                          Austin (TX)   \n",
       "4  A682524      Rio 2014-06-29 10:38:00        800 Grove Blvd in Austin (TX)   \n",
       "\n",
       "  Intake Condition Animal            Sex        Age  \\\n",
       "0  Stray    Normal    Dog  Neutered Male    2 years   \n",
       "1  Stray    Normal    Dog  Spayed Female    8 years   \n",
       "2  Stray    Normal    Dog    Intact Male  11 months   \n",
       "3  Stray      Sick    Cat  Intact Female    4 weeks   \n",
       "4  Stray    Normal    Dog  Neutered Male    4 years   \n",
       "\n",
       "                                   Breed        Color  AgeDays  \n",
       "0                             Beagle Mix     Tricolor    730.0  \n",
       "1               English Springer Spaniel  White/Liver   2920.0  \n",
       "2                            Basenji Mix  Sable/White    330.0  \n",
       "3                 Domestic Shorthair Mix       Calico     28.0  \n",
       "4  Doberman Pinsch/Australian Cattle Dog     Tan/Gray   1460.0  "
      ]
     },
     "execution_count": 59,
     "metadata": {},
     "output_type": "execute_result"
    }
   ],
   "source": [
    "# Here ages with negative numbers (ex. -2 years, -730 days) \n",
    "# that represent less than a specific age (ex. < 2 years, < 730 days)\n",
    "# are made positive and halfed to represent an estimate (ex. -2 years is estimated at 1 year or 365 days). \n",
    "\n",
    "replacer = []\n",
    "\n",
    "for x in df['AgeDays']:\n",
    "    if x < 0:\n",
    "        newnum = x/2\n",
    "        replacer.append(abs(newnum))\n",
    "    else:\n",
    "        replacer.append(x)\n",
    "\n",
    "df['AgeDays'] = replacer\n",
    "df.head()"
   ]
  },
  {
   "cell_type": "code",
   "execution_count": 60,
   "metadata": {},
   "outputs": [
    {
     "data": {
      "text/plain": [
       "count    134864.000000\n",
       "mean        744.013758\n",
       "std        1044.267329\n",
       "min           1.000000\n",
       "25%          60.000000\n",
       "50%         365.000000\n",
       "75%         730.000000\n",
       "max       10950.000000\n",
       "Name: AgeDays, dtype: float64"
      ]
     },
     "execution_count": 60,
     "metadata": {},
     "output_type": "execute_result"
    }
   ],
   "source": [
    "df['AgeDays'].describe()"
   ]
  },
  {
   "cell_type": "code",
   "execution_count": 79,
   "metadata": {},
   "outputs": [
    {
     "data": {
      "image/png": "[encoded data removed]",
      "text/plain": [
       "<Figure size 720x432 with 1 Axes>"
      ]
     },
     "metadata": {
      "needs_background": "light"
     },
     "output_type": "display_data"
    }
   ],
   "source": [
    "df['AgeDays'].plot(kind='hist', figsize=(10,6), color='DarkGreen', fontsize=12)\n",
    "plt.title('Frequency of Age in Days', size=14)\n",
    "plt.xlabel('Age in Days', size=12)\n",
    "plt.ylabel('Frequency', size=12)\n",
    "plt.grid(True)"
   ]
  },
  {
   "cell_type": "code",
   "execution_count": 62,
   "metadata": {},
   "outputs": [
    {
     "data": {
      "text/html": [
       "<div>\n",
       "<style scoped>\n",
       "    .dataframe tbody tr th:only-of-type {\n",
       "        vertical-align: middle;\n",
       "    }\n",
       "\n",
       "    .dataframe tbody tr th {\n",
       "        vertical-align: top;\n",
       "    }\n",
       "\n",
       "    .dataframe thead th {\n",
       "        text-align: right;\n",
       "    }\n",
       "</style>\n",
       "<table border=\"1\" class=\"dataframe\">\n",
       "  <thead>\n",
       "    <tr style=\"text-align: right;\">\n",
       "      <th></th>\n",
       "      <th>AgeDays</th>\n",
       "    </tr>\n",
       "    <tr>\n",
       "      <th>Animal</th>\n",
       "      <th></th>\n",
       "    </tr>\n",
       "  </thead>\n",
       "  <tbody>\n",
       "    <tr>\n",
       "      <th>Dog</th>\n",
       "      <td>942.549920</td>\n",
       "    </tr>\n",
       "    <tr>\n",
       "      <th>Bird</th>\n",
       "      <td>521.196513</td>\n",
       "    </tr>\n",
       "    <tr>\n",
       "      <th>Cat</th>\n",
       "      <td>491.790005</td>\n",
       "    </tr>\n",
       "    <tr>\n",
       "      <th>Other</th>\n",
       "      <td>469.853073</td>\n",
       "    </tr>\n",
       "    <tr>\n",
       "      <th>Livestock</th>\n",
       "      <td>299.291667</td>\n",
       "    </tr>\n",
       "  </tbody>\n",
       "</table>\n",
       "</div>"
      ],
      "text/plain": [
       "              AgeDays\n",
       "Animal               \n",
       "Dog        942.549920\n",
       "Bird       521.196513\n",
       "Cat        491.790005\n",
       "Other      469.853073\n",
       "Livestock  299.291667"
      ]
     },
     "execution_count": 62,
     "metadata": {},
     "output_type": "execute_result"
    }
   ],
   "source": [
    "# Here is the estimated average age by animal type. \n",
    "\n",
    "animal_age = df[['Animal', 'AgeDays']].groupby(by='Animal').mean().sort_values('AgeDays', ascending=False)[:10]\n",
    "animal_age"
   ]
  },
  {
   "cell_type": "code",
   "execution_count": 63,
   "metadata": {},
   "outputs": [
    {
     "data": {
      "text/html": [
       "<div>\n",
       "<style scoped>\n",
       "    .dataframe tbody tr th:only-of-type {\n",
       "        vertical-align: middle;\n",
       "    }\n",
       "\n",
       "    .dataframe tbody tr th {\n",
       "        vertical-align: top;\n",
       "    }\n",
       "\n",
       "    .dataframe thead th {\n",
       "        text-align: right;\n",
       "    }\n",
       "</style>\n",
       "<table border=\"1\" class=\"dataframe\">\n",
       "  <thead>\n",
       "    <tr style=\"text-align: right;\">\n",
       "      <th></th>\n",
       "      <th>AgeDays</th>\n",
       "      <th>AgeYears</th>\n",
       "    </tr>\n",
       "    <tr>\n",
       "      <th>Animal</th>\n",
       "      <th></th>\n",
       "      <th></th>\n",
       "    </tr>\n",
       "  </thead>\n",
       "  <tbody>\n",
       "    <tr>\n",
       "      <th>Dog</th>\n",
       "      <td>942.549920</td>\n",
       "      <td>3</td>\n",
       "    </tr>\n",
       "    <tr>\n",
       "      <th>Bird</th>\n",
       "      <td>521.196513</td>\n",
       "      <td>2</td>\n",
       "    </tr>\n",
       "    <tr>\n",
       "      <th>Cat</th>\n",
       "      <td>491.790005</td>\n",
       "      <td>2</td>\n",
       "    </tr>\n",
       "    <tr>\n",
       "      <th>Other</th>\n",
       "      <td>469.853073</td>\n",
       "      <td>2</td>\n",
       "    </tr>\n",
       "    <tr>\n",
       "      <th>Livestock</th>\n",
       "      <td>299.291667</td>\n",
       "      <td>1</td>\n",
       "    </tr>\n",
       "  </tbody>\n",
       "</table>\n",
       "</div>"
      ],
      "text/plain": [
       "              AgeDays  AgeYears\n",
       "Animal                         \n",
       "Dog        942.549920         3\n",
       "Bird       521.196513         2\n",
       "Cat        491.790005         2\n",
       "Other      469.853073         2\n",
       "Livestock  299.291667         1"
      ]
     },
     "execution_count": 63,
     "metadata": {},
     "output_type": "execute_result"
    }
   ],
   "source": [
    "# Here the estimated average age by animal type is converted to years. \n",
    "\n",
    "avg_year = []\n",
    "for x in animal_age['AgeDays']:\n",
    "    avg_year.append(math.ceil(x/365))\n",
    "\n",
    "animal_age['AgeYears'] = avg_year\n",
    "animal_age"
   ]
  },
  {
   "cell_type": "code",
   "execution_count": 80,
   "metadata": {},
   "outputs": [
    {
     "data": {
      "image/png": "[encoded data removed]",
      "text/plain": [
       "<Figure size 576x432 with 1 Axes>"
      ]
     },
     "metadata": {
      "needs_background": "light"
     },
     "output_type": "display_data"
    }
   ],
   "source": [
    "animal_age.plot(kind='bar', y='AgeYears', legend='', color='OliveDrab', figsize=(8,6), fontsize=12)\n",
    "\n",
    "plt.title('Estimated Average Age by Animal Type', size=14)\n",
    "plt.xlabel('Animal Type', fontsize=12)\n",
    "plt.ylabel('Estimated Average Age in Years', fontsize=12)\n",
    "plt.grid(True, clip_on=True)"
   ]
  },
  {
   "cell_type": "code",
   "execution_count": 65,
   "metadata": {},
   "outputs": [
    {
     "data": {
      "text/html": [
       "<div>\n",
       "<style scoped>\n",
       "    .dataframe tbody tr th:only-of-type {\n",
       "        vertical-align: middle;\n",
       "    }\n",
       "\n",
       "    .dataframe tbody tr th {\n",
       "        vertical-align: top;\n",
       "    }\n",
       "\n",
       "    .dataframe thead th {\n",
       "        text-align: right;\n",
       "    }\n",
       "</style>\n",
       "<table border=\"1\" class=\"dataframe\">\n",
       "  <thead>\n",
       "    <tr style=\"text-align: right;\">\n",
       "      <th></th>\n",
       "      <th>AgeDays</th>\n",
       "    </tr>\n",
       "    <tr>\n",
       "      <th>Intake</th>\n",
       "      <th></th>\n",
       "    </tr>\n",
       "  </thead>\n",
       "  <tbody>\n",
       "    <tr>\n",
       "      <th>Euthanasia Request</th>\n",
       "      <td>2907.647287</td>\n",
       "    </tr>\n",
       "    <tr>\n",
       "      <th>Public Assist</th>\n",
       "      <td>1214.823497</td>\n",
       "    </tr>\n",
       "    <tr>\n",
       "      <th>Owner Surrender</th>\n",
       "      <td>947.734944</td>\n",
       "    </tr>\n",
       "    <tr>\n",
       "      <th>Stray</th>\n",
       "      <td>653.550866</td>\n",
       "    </tr>\n",
       "    <tr>\n",
       "      <th>Wildlife</th>\n",
       "      <td>482.229398</td>\n",
       "    </tr>\n",
       "    <tr>\n",
       "      <th>Abandoned</th>\n",
       "      <td>412.091049</td>\n",
       "    </tr>\n",
       "  </tbody>\n",
       "</table>\n",
       "</div>"
      ],
      "text/plain": [
       "                        AgeDays\n",
       "Intake                         \n",
       "Euthanasia Request  2907.647287\n",
       "Public Assist       1214.823497\n",
       "Owner Surrender      947.734944\n",
       "Stray                653.550866\n",
       "Wildlife             482.229398\n",
       "Abandoned            412.091049"
      ]
     },
     "execution_count": 65,
     "metadata": {},
     "output_type": "execute_result"
    }
   ],
   "source": [
    "# Here is the estimated average age by intake type. \n",
    "\n",
    "intake_age = df[['Intake', 'AgeDays']].groupby(by='Intake').mean().sort_values('AgeDays', ascending=False)[:10]\n",
    "intake_age"
   ]
  },
  {
   "cell_type": "code",
   "execution_count": 66,
   "metadata": {},
   "outputs": [
    {
     "data": {
      "text/html": [
       "<div>\n",
       "<style scoped>\n",
       "    .dataframe tbody tr th:only-of-type {\n",
       "        vertical-align: middle;\n",
       "    }\n",
       "\n",
       "    .dataframe tbody tr th {\n",
       "        vertical-align: top;\n",
       "    }\n",
       "\n",
       "    .dataframe thead th {\n",
       "        text-align: right;\n",
       "    }\n",
       "</style>\n",
       "<table border=\"1\" class=\"dataframe\">\n",
       "  <thead>\n",
       "    <tr style=\"text-align: right;\">\n",
       "      <th></th>\n",
       "      <th>AgeDays</th>\n",
       "      <th>AgeYears</th>\n",
       "    </tr>\n",
       "    <tr>\n",
       "      <th>Intake</th>\n",
       "      <th></th>\n",
       "      <th></th>\n",
       "    </tr>\n",
       "  </thead>\n",
       "  <tbody>\n",
       "    <tr>\n",
       "      <th>Euthanasia Request</th>\n",
       "      <td>2907.647287</td>\n",
       "      <td>8</td>\n",
       "    </tr>\n",
       "    <tr>\n",
       "      <th>Public Assist</th>\n",
       "      <td>1214.823497</td>\n",
       "      <td>4</td>\n",
       "    </tr>\n",
       "    <tr>\n",
       "      <th>Owner Surrender</th>\n",
       "      <td>947.734944</td>\n",
       "      <td>3</td>\n",
       "    </tr>\n",
       "    <tr>\n",
       "      <th>Stray</th>\n",
       "      <td>653.550866</td>\n",
       "      <td>2</td>\n",
       "    </tr>\n",
       "    <tr>\n",
       "      <th>Wildlife</th>\n",
       "      <td>482.229398</td>\n",
       "      <td>2</td>\n",
       "    </tr>\n",
       "    <tr>\n",
       "      <th>Abandoned</th>\n",
       "      <td>412.091049</td>\n",
       "      <td>2</td>\n",
       "    </tr>\n",
       "  </tbody>\n",
       "</table>\n",
       "</div>"
      ],
      "text/plain": [
       "                        AgeDays  AgeYears\n",
       "Intake                                   \n",
       "Euthanasia Request  2907.647287         8\n",
       "Public Assist       1214.823497         4\n",
       "Owner Surrender      947.734944         3\n",
       "Stray                653.550866         2\n",
       "Wildlife             482.229398         2\n",
       "Abandoned            412.091049         2"
      ]
     },
     "execution_count": 66,
     "metadata": {},
     "output_type": "execute_result"
    }
   ],
   "source": [
    "# Here the estimated average age by intake type is converted to years. \n",
    "\n",
    "avg_year_int = []\n",
    "for x in intake_age['AgeDays']:\n",
    "    avg_year_int.append(math.ceil(x/365))\n",
    "\n",
    "intake_age['AgeYears'] = avg_year_int\n",
    "intake_age"
   ]
  },
  {
   "cell_type": "code",
   "execution_count": 81,
   "metadata": {},
   "outputs": [
    {
     "data": {
      "image/png": "[encoded data removed]",
      "text/plain": [
       "<Figure size 576x432 with 1 Axes>"
      ]
     },
     "metadata": {
      "needs_background": "light"
     },
     "output_type": "display_data"
    }
   ],
   "source": [
    "intake_age.plot(kind='bar', y='AgeYears', legend='', color='OliveDrab', figsize=(8,6), fontsize=12)\n",
    "\n",
    "plt.title('Estimated Average Age by Intake Type', size=14)\n",
    "plt.xlabel('Intake Type', fontsize=12)\n",
    "plt.ylabel('Estimated Average Age in Years', fontsize=12)\n",
    "plt.grid(True, clip_on=True)"
   ]
  },
  {
   "cell_type": "code",
   "execution_count": 68,
   "metadata": {},
   "outputs": [
    {
     "data": {
      "text/html": [
       "<div>\n",
       "<style scoped>\n",
       "    .dataframe tbody tr th:only-of-type {\n",
       "        vertical-align: middle;\n",
       "    }\n",
       "\n",
       "    .dataframe tbody tr th {\n",
       "        vertical-align: top;\n",
       "    }\n",
       "\n",
       "    .dataframe thead th {\n",
       "        text-align: right;\n",
       "    }\n",
       "</style>\n",
       "<table border=\"1\" class=\"dataframe\">\n",
       "  <thead>\n",
       "    <tr style=\"text-align: right;\">\n",
       "      <th></th>\n",
       "      <th>AgeDays</th>\n",
       "    </tr>\n",
       "    <tr>\n",
       "      <th>Condition</th>\n",
       "      <th></th>\n",
       "    </tr>\n",
       "  </thead>\n",
       "  <tbody>\n",
       "    <tr>\n",
       "      <th>Aged</th>\n",
       "      <td>4248.118162</td>\n",
       "    </tr>\n",
       "    <tr>\n",
       "      <th>Med Urgent</th>\n",
       "      <td>2737.500000</td>\n",
       "    </tr>\n",
       "    <tr>\n",
       "      <th>Other</th>\n",
       "      <td>1157.469136</td>\n",
       "    </tr>\n",
       "    <tr>\n",
       "      <th>Medical</th>\n",
       "      <td>1031.477124</td>\n",
       "    </tr>\n",
       "    <tr>\n",
       "      <th>Behavior</th>\n",
       "      <td>960.813953</td>\n",
       "    </tr>\n",
       "    <tr>\n",
       "      <th>Injured</th>\n",
       "      <td>940.116489</td>\n",
       "    </tr>\n",
       "    <tr>\n",
       "      <th>Sick</th>\n",
       "      <td>847.484145</td>\n",
       "    </tr>\n",
       "    <tr>\n",
       "      <th>Pregnant</th>\n",
       "      <td>766.260000</td>\n",
       "    </tr>\n",
       "    <tr>\n",
       "      <th>Normal</th>\n",
       "      <td>734.140338</td>\n",
       "    </tr>\n",
       "    <tr>\n",
       "      <th>Feral</th>\n",
       "      <td>605.605042</td>\n",
       "    </tr>\n",
       "  </tbody>\n",
       "</table>\n",
       "</div>"
      ],
      "text/plain": [
       "                AgeDays\n",
       "Condition              \n",
       "Aged        4248.118162\n",
       "Med Urgent  2737.500000\n",
       "Other       1157.469136\n",
       "Medical     1031.477124\n",
       "Behavior     960.813953\n",
       "Injured      940.116489\n",
       "Sick         847.484145\n",
       "Pregnant     766.260000\n",
       "Normal       734.140338\n",
       "Feral        605.605042"
      ]
     },
     "execution_count": 68,
     "metadata": {},
     "output_type": "execute_result"
    }
   ],
   "source": [
    "# Here is the estimated average age by intake condition\n",
    "\n",
    "condition_age = df[['Condition', 'AgeDays']].groupby(by='Condition').mean().sort_values('AgeDays', ascending=False)[:10]\n",
    "condition_age"
   ]
  },
  {
   "cell_type": "code",
   "execution_count": 69,
   "metadata": {},
   "outputs": [
    {
     "data": {
      "text/html": [
       "<div>\n",
       "<style scoped>\n",
       "    .dataframe tbody tr th:only-of-type {\n",
       "        vertical-align: middle;\n",
       "    }\n",
       "\n",
       "    .dataframe tbody tr th {\n",
       "        vertical-align: top;\n",
       "    }\n",
       "\n",
       "    .dataframe thead th {\n",
       "        text-align: right;\n",
       "    }\n",
       "</style>\n",
       "<table border=\"1\" class=\"dataframe\">\n",
       "  <thead>\n",
       "    <tr style=\"text-align: right;\">\n",
       "      <th></th>\n",
       "      <th>AgeDays</th>\n",
       "      <th>AgeYears</th>\n",
       "    </tr>\n",
       "    <tr>\n",
       "      <th>Condition</th>\n",
       "      <th></th>\n",
       "      <th></th>\n",
       "    </tr>\n",
       "  </thead>\n",
       "  <tbody>\n",
       "    <tr>\n",
       "      <th>Aged</th>\n",
       "      <td>4248.118162</td>\n",
       "      <td>12</td>\n",
       "    </tr>\n",
       "    <tr>\n",
       "      <th>Med Urgent</th>\n",
       "      <td>2737.500000</td>\n",
       "      <td>8</td>\n",
       "    </tr>\n",
       "    <tr>\n",
       "      <th>Other</th>\n",
       "      <td>1157.469136</td>\n",
       "      <td>4</td>\n",
       "    </tr>\n",
       "    <tr>\n",
       "      <th>Medical</th>\n",
       "      <td>1031.477124</td>\n",
       "      <td>3</td>\n",
       "    </tr>\n",
       "    <tr>\n",
       "      <th>Behavior</th>\n",
       "      <td>960.813953</td>\n",
       "      <td>3</td>\n",
       "    </tr>\n",
       "    <tr>\n",
       "      <th>Injured</th>\n",
       "      <td>940.116489</td>\n",
       "      <td>3</td>\n",
       "    </tr>\n",
       "    <tr>\n",
       "      <th>Sick</th>\n",
       "      <td>847.484145</td>\n",
       "      <td>3</td>\n",
       "    </tr>\n",
       "    <tr>\n",
       "      <th>Pregnant</th>\n",
       "      <td>766.260000</td>\n",
       "      <td>3</td>\n",
       "    </tr>\n",
       "    <tr>\n",
       "      <th>Normal</th>\n",
       "      <td>734.140338</td>\n",
       "      <td>3</td>\n",
       "    </tr>\n",
       "    <tr>\n",
       "      <th>Feral</th>\n",
       "      <td>605.605042</td>\n",
       "      <td>2</td>\n",
       "    </tr>\n",
       "  </tbody>\n",
       "</table>\n",
       "</div>"
      ],
      "text/plain": [
       "                AgeDays  AgeYears\n",
       "Condition                        \n",
       "Aged        4248.118162        12\n",
       "Med Urgent  2737.500000         8\n",
       "Other       1157.469136         4\n",
       "Medical     1031.477124         3\n",
       "Behavior     960.813953         3\n",
       "Injured      940.116489         3\n",
       "Sick         847.484145         3\n",
       "Pregnant     766.260000         3\n",
       "Normal       734.140338         3\n",
       "Feral        605.605042         2"
      ]
     },
     "execution_count": 69,
     "metadata": {},
     "output_type": "execute_result"
    }
   ],
   "source": [
    "# Here the estimated age by intake condition is converted to years\n",
    "\n",
    "avg_year_con = []\n",
    "for x in condition_age['AgeDays']:\n",
    "    avg_year_con.append(math.ceil(x/365))\n",
    "\n",
    "condition_age['AgeYears'] = avg_year_con\n",
    "condition_age"
   ]
  },
  {
   "cell_type": "code",
   "execution_count": 82,
   "metadata": {},
   "outputs": [
    {
     "data": {
      "image/png": "[encoded data removed]",
      "text/plain": [
       "<Figure size 720x432 with 1 Axes>"
      ]
     },
     "metadata": {
      "needs_background": "light"
     },
     "output_type": "display_data"
    }
   ],
   "source": [
    "condition_age.plot(kind='bar', y='AgeYears', legend='', color='OliveDrab', figsize=(10,6), fontsize=12)\n",
    "\n",
    "plt.title('Estimated Average Age by Intake Condition', size=14)\n",
    "plt.xlabel('Intake Condition', fontsize=12)\n",
    "plt.ylabel('Estimated Average Age in Years', fontsize=12)\n",
    "plt.grid(True, clip_on=True)"
   ]
  }
 ],
 "metadata": {
  "kernelspec": {
   "display_name": "Python 3",
   "language": "python",
   "name": "python3"
  },
  "language_info": {
   "codemirror_mode": {
    "name": "ipython",
    "version": 3
   },
   "file_extension": ".py",
   "mimetype": "text/x-python",
   "name": "python",
   "nbconvert_exporter": "python",
   "pygments_lexer": "ipython3",
   "version": "3.8.5"
  }
 },
 "nbformat": 4,
 "nbformat_minor": 4
}
